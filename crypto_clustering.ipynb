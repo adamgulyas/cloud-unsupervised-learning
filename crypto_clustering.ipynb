{
 "cells": [
  {
   "cell_type": "markdown",
   "metadata": {},
   "source": [
    "# Clustering Crypto"
   ]
  },
  {
   "cell_type": "code",
   "execution_count": 43,
   "metadata": {},
   "outputs": [],
   "source": [
    "# Initial imports\n",
    "import requests\n",
    "import json\n",
    "import numpy as np\n",
    "import pandas as pd\n",
    "import matplotlib.pyplot as plt\n",
    "import hvplot.pandas\n",
    "from sklearn.preprocessing import StandardScaler, MinMaxScaler\n",
    "from sklearn.decomposition import PCA\n",
    "from sklearn.cluster import KMeans\n",
    "from sklearn.preprocessing import OrdinalEncoder"
   ]
  },
  {
   "cell_type": "markdown",
   "metadata": {},
   "source": [
    "### Fetching Cryptocurrency Data"
   ]
  },
  {
   "cell_type": "code",
   "execution_count": 44,
   "metadata": {},
   "outputs": [],
   "source": [
    "# Use the following endpoint to fetch json data\n",
    "url = \"https://min-api.cryptocompare.com/data/all/coinlist\""
   ]
  },
  {
   "cell_type": "code",
   "execution_count": 45,
   "metadata": {},
   "outputs": [],
   "source": [
    "# Create a DataFrame\n",
    "response = requests.get(url)\n",
    "response_json = response.json()"
   ]
  },
  {
   "cell_type": "code",
   "execution_count": 46,
   "metadata": {},
   "outputs": [
    {
     "name": "stdout",
     "output_type": "stream",
     "text": [
      "<class 'pandas.core.frame.DataFrame'>\n",
      "Index: 8358 entries, 42 to BNSOLD\n",
      "Data columns (total 36 columns):\n",
      " #   Column                Non-Null Count  Dtype \n",
      "---  ------                --------------  ----- \n",
      " 0   Id                    8358 non-null   object\n",
      " 1   Url                   8358 non-null   object\n",
      " 2   ImageUrl              8355 non-null   object\n",
      " 3   ContentCreatedOn      8358 non-null   object\n",
      " 4   Name                  8358 non-null   object\n",
      " 5   Symbol                8358 non-null   object\n",
      " 6   CoinName              8358 non-null   object\n",
      " 7   FullName              8358 non-null   object\n",
      " 8   Description           8358 non-null   object\n",
      " 9   AssetTokenStatus      8358 non-null   object\n",
      " 10  Algorithm             8358 non-null   object\n",
      " 11  ProofType             8358 non-null   object\n",
      " 12  SortOrder             8358 non-null   object\n",
      " 13  Sponsored             8358 non-null   object\n",
      " 14  Taxonomy              8358 non-null   object\n",
      " 15  Rating                8358 non-null   object\n",
      " 16  IsTrading             8358 non-null   object\n",
      " 17  TotalCoinsMined       4435 non-null   object\n",
      " 18  CirculatingSupply     4436 non-null   object\n",
      " 19  BlockNumber           4436 non-null   object\n",
      " 20  NetHashesPerSecond    4431 non-null   object\n",
      " 21  BlockReward           4435 non-null   object\n",
      " 22  BlockTime             4436 non-null   object\n",
      " 23  AssetLaunchDate       4436 non-null   object\n",
      " 24  AssetWhitepaperUrl    4436 non-null   object\n",
      " 25  AssetWebsiteUrl       4396 non-null   object\n",
      " 26  MaxSupply             4435 non-null   object\n",
      " 27  MktCapPenalty         4436 non-null   object\n",
      " 28  IsUsedInDefi          4436 non-null   object\n",
      " 29  IsUsedInNft           4436 non-null   object\n",
      " 30  PlatformType          3802 non-null   object\n",
      " 31  AlgorithmType         35 non-null     object\n",
      " 32  Difficulty            112 non-null    object\n",
      " 33  BuiltOn               3058 non-null   object\n",
      " 34  SmartContractAddress  3047 non-null   object\n",
      " 35  DecimalPoints         2903 non-null   object\n",
      "dtypes: object(36)\n",
      "memory usage: 2.4+ MB\n"
     ]
    }
   ],
   "source": [
    "crypto_df_raw = pd.DataFrame(response_json['Data']).transpose()\n",
    "crypto_df_raw.info()"
   ]
  },
  {
   "cell_type": "markdown",
   "metadata": {},
   "source": [
    "### Data Preprocessing"
   ]
  },
  {
   "cell_type": "code",
   "execution_count": 47,
   "metadata": {},
   "outputs": [
    {
     "data": {
      "text/html": [
       "<div>\n",
       "<style scoped>\n",
       "    .dataframe tbody tr th:only-of-type {\n",
       "        vertical-align: middle;\n",
       "    }\n",
       "\n",
       "    .dataframe tbody tr th {\n",
       "        vertical-align: top;\n",
       "    }\n",
       "\n",
       "    .dataframe thead th {\n",
       "        text-align: right;\n",
       "    }\n",
       "</style>\n",
       "<table border=\"1\" class=\"dataframe\">\n",
       "  <thead>\n",
       "    <tr style=\"text-align: right;\">\n",
       "      <th></th>\n",
       "      <th>CoinName</th>\n",
       "      <th>Algorithm</th>\n",
       "      <th>ProofType</th>\n",
       "      <th>IsTrading</th>\n",
       "      <th>TotalCoinsMined</th>\n",
       "      <th>MaxSupply</th>\n",
       "    </tr>\n",
       "  </thead>\n",
       "  <tbody>\n",
       "    <tr>\n",
       "      <th>42</th>\n",
       "      <td>42 Coin</td>\n",
       "      <td>Scrypt</td>\n",
       "      <td>PoW/PoS</td>\n",
       "      <td>True</td>\n",
       "      <td>41.999952</td>\n",
       "      <td>42</td>\n",
       "    </tr>\n",
       "    <tr>\n",
       "      <th>300</th>\n",
       "      <td>300 token</td>\n",
       "      <td>N/A</td>\n",
       "      <td>N/A</td>\n",
       "      <td>True</td>\n",
       "      <td>300</td>\n",
       "      <td>300</td>\n",
       "    </tr>\n",
       "    <tr>\n",
       "      <th>365</th>\n",
       "      <td>365Coin</td>\n",
       "      <td>X11</td>\n",
       "      <td>PoW/PoS</td>\n",
       "      <td>True</td>\n",
       "      <td>0</td>\n",
       "      <td>-1</td>\n",
       "    </tr>\n",
       "    <tr>\n",
       "      <th>404</th>\n",
       "      <td>404Coin</td>\n",
       "      <td>Scrypt</td>\n",
       "      <td>PoW/PoS</td>\n",
       "      <td>True</td>\n",
       "      <td>0</td>\n",
       "      <td>-1</td>\n",
       "    </tr>\n",
       "    <tr>\n",
       "      <th>433</th>\n",
       "      <td>433 Token</td>\n",
       "      <td>N/A</td>\n",
       "      <td>N/A</td>\n",
       "      <td>False</td>\n",
       "      <td>NaN</td>\n",
       "      <td>NaN</td>\n",
       "    </tr>\n",
       "  </tbody>\n",
       "</table>\n",
       "</div>"
      ],
      "text/plain": [
       "      CoinName Algorithm ProofType IsTrading TotalCoinsMined MaxSupply\n",
       "42     42 Coin    Scrypt   PoW/PoS      True       41.999952        42\n",
       "300  300 token       N/A       N/A      True             300       300\n",
       "365    365Coin       X11   PoW/PoS      True               0        -1\n",
       "404    404Coin    Scrypt   PoW/PoS      True               0        -1\n",
       "433  433 Token       N/A       N/A     False             NaN       NaN"
      ]
     },
     "execution_count": 47,
     "metadata": {},
     "output_type": "execute_result"
    }
   ],
   "source": [
    "# Keep only necessary columns:\n",
    "# 'CoinName','Algorithm','IsTrading','ProofType','TotalCoinsMined','MaxSupply'\n",
    "crypto_df = crypto_df_raw.drop(crypto_df_raw.columns.difference([\n",
    "    'CoinName', \n",
    "    'Algorithm', \n",
    "    'IsTrading', \n",
    "    'ProofType', \n",
    "    'TotalCoinsMined', \n",
    "    'MaxSupply',\n",
    "]), axis='columns')\n",
    "\n",
    "crypto_df.head()"
   ]
  },
  {
   "cell_type": "code",
   "execution_count": 48,
   "metadata": {},
   "outputs": [
    {
     "data": {
      "text/html": [
       "<div>\n",
       "<style scoped>\n",
       "    .dataframe tbody tr th:only-of-type {\n",
       "        vertical-align: middle;\n",
       "    }\n",
       "\n",
       "    .dataframe tbody tr th {\n",
       "        vertical-align: top;\n",
       "    }\n",
       "\n",
       "    .dataframe thead th {\n",
       "        text-align: right;\n",
       "    }\n",
       "</style>\n",
       "<table border=\"1\" class=\"dataframe\">\n",
       "  <thead>\n",
       "    <tr style=\"text-align: right;\">\n",
       "      <th></th>\n",
       "      <th>CoinName</th>\n",
       "      <th>Algorithm</th>\n",
       "      <th>ProofType</th>\n",
       "      <th>IsTrading</th>\n",
       "      <th>TotalCoinsMined</th>\n",
       "      <th>MaxSupply</th>\n",
       "    </tr>\n",
       "  </thead>\n",
       "  <tbody>\n",
       "    <tr>\n",
       "      <th>42</th>\n",
       "      <td>42 Coin</td>\n",
       "      <td>Scrypt</td>\n",
       "      <td>PoW/PoS</td>\n",
       "      <td>True</td>\n",
       "      <td>41.999952</td>\n",
       "      <td>42</td>\n",
       "    </tr>\n",
       "    <tr>\n",
       "      <th>300</th>\n",
       "      <td>300 token</td>\n",
       "      <td>N/A</td>\n",
       "      <td>N/A</td>\n",
       "      <td>True</td>\n",
       "      <td>300</td>\n",
       "      <td>300</td>\n",
       "    </tr>\n",
       "    <tr>\n",
       "      <th>365</th>\n",
       "      <td>365Coin</td>\n",
       "      <td>X11</td>\n",
       "      <td>PoW/PoS</td>\n",
       "      <td>True</td>\n",
       "      <td>0</td>\n",
       "      <td>-1</td>\n",
       "    </tr>\n",
       "    <tr>\n",
       "      <th>404</th>\n",
       "      <td>404Coin</td>\n",
       "      <td>Scrypt</td>\n",
       "      <td>PoW/PoS</td>\n",
       "      <td>True</td>\n",
       "      <td>0</td>\n",
       "      <td>-1</td>\n",
       "    </tr>\n",
       "    <tr>\n",
       "      <th>611</th>\n",
       "      <td>SixEleven</td>\n",
       "      <td>SHA-256</td>\n",
       "      <td>PoW</td>\n",
       "      <td>True</td>\n",
       "      <td>0</td>\n",
       "      <td>0</td>\n",
       "    </tr>\n",
       "  </tbody>\n",
       "</table>\n",
       "</div>"
      ],
      "text/plain": [
       "      CoinName Algorithm ProofType IsTrading TotalCoinsMined MaxSupply\n",
       "42     42 Coin    Scrypt   PoW/PoS      True       41.999952        42\n",
       "300  300 token       N/A       N/A      True             300       300\n",
       "365    365Coin       X11   PoW/PoS      True               0        -1\n",
       "404    404Coin    Scrypt   PoW/PoS      True               0        -1\n",
       "611  SixEleven   SHA-256       PoW      True               0         0"
      ]
     },
     "execution_count": 48,
     "metadata": {},
     "output_type": "execute_result"
    }
   ],
   "source": [
    "# Keep only cryptocurrencies that are trading\n",
    "crypto_df = crypto_df.loc[crypto_df['IsTrading'] == True]\n",
    "crypto_df.head()"
   ]
  },
  {
   "cell_type": "code",
   "execution_count": 49,
   "metadata": {},
   "outputs": [
    {
     "data": {
      "text/html": [
       "<div>\n",
       "<style scoped>\n",
       "    .dataframe tbody tr th:only-of-type {\n",
       "        vertical-align: middle;\n",
       "    }\n",
       "\n",
       "    .dataframe tbody tr th {\n",
       "        vertical-align: top;\n",
       "    }\n",
       "\n",
       "    .dataframe thead th {\n",
       "        text-align: right;\n",
       "    }\n",
       "</style>\n",
       "<table border=\"1\" class=\"dataframe\">\n",
       "  <thead>\n",
       "    <tr style=\"text-align: right;\">\n",
       "      <th></th>\n",
       "      <th>CoinName</th>\n",
       "      <th>Algorithm</th>\n",
       "      <th>ProofType</th>\n",
       "      <th>IsTrading</th>\n",
       "      <th>TotalCoinsMined</th>\n",
       "      <th>MaxSupply</th>\n",
       "    </tr>\n",
       "  </thead>\n",
       "  <tbody>\n",
       "    <tr>\n",
       "      <th>42</th>\n",
       "      <td>42 Coin</td>\n",
       "      <td>Scrypt</td>\n",
       "      <td>PoW/PoS</td>\n",
       "      <td>True</td>\n",
       "      <td>41.999952</td>\n",
       "      <td>42</td>\n",
       "    </tr>\n",
       "    <tr>\n",
       "      <th>365</th>\n",
       "      <td>365Coin</td>\n",
       "      <td>X11</td>\n",
       "      <td>PoW/PoS</td>\n",
       "      <td>True</td>\n",
       "      <td>0</td>\n",
       "      <td>-1</td>\n",
       "    </tr>\n",
       "    <tr>\n",
       "      <th>404</th>\n",
       "      <td>404Coin</td>\n",
       "      <td>Scrypt</td>\n",
       "      <td>PoW/PoS</td>\n",
       "      <td>True</td>\n",
       "      <td>0</td>\n",
       "      <td>-1</td>\n",
       "    </tr>\n",
       "    <tr>\n",
       "      <th>611</th>\n",
       "      <td>SixEleven</td>\n",
       "      <td>SHA-256</td>\n",
       "      <td>PoW</td>\n",
       "      <td>True</td>\n",
       "      <td>0</td>\n",
       "      <td>0</td>\n",
       "    </tr>\n",
       "    <tr>\n",
       "      <th>808</th>\n",
       "      <td>808</td>\n",
       "      <td>SHA-256</td>\n",
       "      <td>PoW/PoS</td>\n",
       "      <td>True</td>\n",
       "      <td>0</td>\n",
       "      <td>0</td>\n",
       "    </tr>\n",
       "  </tbody>\n",
       "</table>\n",
       "</div>"
      ],
      "text/plain": [
       "      CoinName Algorithm ProofType IsTrading TotalCoinsMined MaxSupply\n",
       "42     42 Coin    Scrypt   PoW/PoS      True       41.999952        42\n",
       "365    365Coin       X11   PoW/PoS      True               0        -1\n",
       "404    404Coin    Scrypt   PoW/PoS      True               0        -1\n",
       "611  SixEleven   SHA-256       PoW      True               0         0\n",
       "808        808   SHA-256   PoW/PoS      True               0         0"
      ]
     },
     "execution_count": 49,
     "metadata": {},
     "output_type": "execute_result"
    }
   ],
   "source": [
    "# Keep only cryptocurrencies with a working algorithm\n",
    "crypto_df = crypto_df.loc[crypto_df['Algorithm'] != 'N/A']\n",
    "crypto_df.head()"
   ]
  },
  {
   "cell_type": "code",
   "execution_count": 50,
   "metadata": {},
   "outputs": [],
   "source": [
    "# Remove the \"IsTrading\" column\n",
    "crypto_df.drop(columns='IsTrading', inplace=True)"
   ]
  },
  {
   "cell_type": "code",
   "execution_count": 51,
   "metadata": {},
   "outputs": [],
   "source": [
    "# Remove rows with cryptocurrencies having no coins mined\n",
    "crypto_df = crypto_df.loc[crypto_df['TotalCoinsMined'] > 0]"
   ]
  },
  {
   "cell_type": "code",
   "execution_count": 52,
   "metadata": {},
   "outputs": [],
   "source": [
    "# Drop rows where there are 'N/A' text values\n",
    "crypto_df.replace('N/A', np.nan, inplace=True)\n",
    "crypto_df.dropna(inplace=True)\n"
   ]
  },
  {
   "cell_type": "code",
   "execution_count": 53,
   "metadata": {},
   "outputs": [],
   "source": [
    "# Store the 'CoinName'column in its own DataFrame prior to dropping it from crypto_df\n",
    "coin_names = crypto_df['CoinName'].to_frame()"
   ]
  },
  {
   "cell_type": "code",
   "execution_count": 54,
   "metadata": {},
   "outputs": [
    {
     "data": {
      "text/html": [
       "<div>\n",
       "<style scoped>\n",
       "    .dataframe tbody tr th:only-of-type {\n",
       "        vertical-align: middle;\n",
       "    }\n",
       "\n",
       "    .dataframe tbody tr th {\n",
       "        vertical-align: top;\n",
       "    }\n",
       "\n",
       "    .dataframe thead th {\n",
       "        text-align: right;\n",
       "    }\n",
       "</style>\n",
       "<table border=\"1\" class=\"dataframe\">\n",
       "  <thead>\n",
       "    <tr style=\"text-align: right;\">\n",
       "      <th></th>\n",
       "      <th>Algorithm</th>\n",
       "      <th>ProofType</th>\n",
       "      <th>TotalCoinsMined</th>\n",
       "      <th>MaxSupply</th>\n",
       "    </tr>\n",
       "  </thead>\n",
       "  <tbody>\n",
       "    <tr>\n",
       "      <th>42</th>\n",
       "      <td>Scrypt</td>\n",
       "      <td>PoW/PoS</td>\n",
       "      <td>4.199995e+01</td>\n",
       "      <td>42.0</td>\n",
       "    </tr>\n",
       "    <tr>\n",
       "      <th>NSR</th>\n",
       "      <td>PoS</td>\n",
       "      <td>PoS</td>\n",
       "      <td>6.178572e+09</td>\n",
       "      <td>0.0</td>\n",
       "    </tr>\n",
       "    <tr>\n",
       "      <th>TRI</th>\n",
       "      <td>X13</td>\n",
       "      <td>PoW/PoS</td>\n",
       "      <td>1.916272e+05</td>\n",
       "      <td>0.0</td>\n",
       "    </tr>\n",
       "    <tr>\n",
       "      <th>CMTC</th>\n",
       "      <td>Scrypt</td>\n",
       "      <td>PoW</td>\n",
       "      <td>8.728300e+05</td>\n",
       "      <td>0.0</td>\n",
       "    </tr>\n",
       "    <tr>\n",
       "      <th>CHAT</th>\n",
       "      <td>Scrypt</td>\n",
       "      <td>PoW/PoS</td>\n",
       "      <td>1.000000e+09</td>\n",
       "      <td>-1.0</td>\n",
       "    </tr>\n",
       "  </tbody>\n",
       "</table>\n",
       "</div>"
      ],
      "text/plain": [
       "     Algorithm ProofType  TotalCoinsMined  MaxSupply\n",
       "42      Scrypt   PoW/PoS     4.199995e+01       42.0\n",
       "NSR        PoS       PoS     6.178572e+09        0.0\n",
       "TRI        X13   PoW/PoS     1.916272e+05        0.0\n",
       "CMTC    Scrypt       PoW     8.728300e+05        0.0\n",
       "CHAT    Scrypt   PoW/PoS     1.000000e+09       -1.0"
      ]
     },
     "execution_count": 54,
     "metadata": {},
     "output_type": "execute_result"
    }
   ],
   "source": [
    "# Drop the 'CoinName' column since it's not going to be used on the clustering algorithm\n",
    "crypto_df.drop(columns='CoinName', inplace=True)\n",
    "crypto_df.head()"
   ]
  },
  {
   "cell_type": "code",
   "execution_count": 55,
   "metadata": {},
   "outputs": [
    {
     "data": {
      "text/html": [
       "<div>\n",
       "<style scoped>\n",
       "    .dataframe tbody tr th:only-of-type {\n",
       "        vertical-align: middle;\n",
       "    }\n",
       "\n",
       "    .dataframe tbody tr th {\n",
       "        vertical-align: top;\n",
       "    }\n",
       "\n",
       "    .dataframe thead th {\n",
       "        text-align: right;\n",
       "    }\n",
       "</style>\n",
       "<table border=\"1\" class=\"dataframe\">\n",
       "  <thead>\n",
       "    <tr style=\"text-align: right;\">\n",
       "      <th></th>\n",
       "      <th>TotalCoinsMined</th>\n",
       "      <th>MaxSupply</th>\n",
       "      <th>Algorithm_Autolykos</th>\n",
       "      <th>Algorithm_BEP-2</th>\n",
       "      <th>Algorithm_BEP-20 Token</th>\n",
       "      <th>Algorithm_BLAKE256</th>\n",
       "      <th>Algorithm_BMW512 / Echo512</th>\n",
       "      <th>Algorithm_Blake2B + SHA3</th>\n",
       "      <th>Algorithm_Blake2b</th>\n",
       "      <th>Algorithm_C31</th>\n",
       "      <th>...</th>\n",
       "      <th>ProofType_PoW/PoSe</th>\n",
       "      <th>ProofType_PoW/nPoS</th>\n",
       "      <th>ProofType_ProgPoW/PoS</th>\n",
       "      <th>ProofType_Proof of Authority</th>\n",
       "      <th>ProofType_Proof-of-Work</th>\n",
       "      <th>ProofType_SPoS</th>\n",
       "      <th>ProofType_TPoS</th>\n",
       "      <th>ProofType_Zero-Knowledge Proof</th>\n",
       "      <th>ProofType_dPoW</th>\n",
       "      <th>ProofType_dPoW/PoW</th>\n",
       "    </tr>\n",
       "  </thead>\n",
       "  <tbody>\n",
       "    <tr>\n",
       "      <th>42</th>\n",
       "      <td>4.199995e+01</td>\n",
       "      <td>42.0</td>\n",
       "      <td>0</td>\n",
       "      <td>0</td>\n",
       "      <td>0</td>\n",
       "      <td>0</td>\n",
       "      <td>0</td>\n",
       "      <td>0</td>\n",
       "      <td>0</td>\n",
       "      <td>0</td>\n",
       "      <td>...</td>\n",
       "      <td>0</td>\n",
       "      <td>0</td>\n",
       "      <td>0</td>\n",
       "      <td>0</td>\n",
       "      <td>0</td>\n",
       "      <td>0</td>\n",
       "      <td>0</td>\n",
       "      <td>0</td>\n",
       "      <td>0</td>\n",
       "      <td>0</td>\n",
       "    </tr>\n",
       "    <tr>\n",
       "      <th>NSR</th>\n",
       "      <td>6.178572e+09</td>\n",
       "      <td>0.0</td>\n",
       "      <td>0</td>\n",
       "      <td>0</td>\n",
       "      <td>0</td>\n",
       "      <td>0</td>\n",
       "      <td>0</td>\n",
       "      <td>0</td>\n",
       "      <td>0</td>\n",
       "      <td>0</td>\n",
       "      <td>...</td>\n",
       "      <td>0</td>\n",
       "      <td>0</td>\n",
       "      <td>0</td>\n",
       "      <td>0</td>\n",
       "      <td>0</td>\n",
       "      <td>0</td>\n",
       "      <td>0</td>\n",
       "      <td>0</td>\n",
       "      <td>0</td>\n",
       "      <td>0</td>\n",
       "    </tr>\n",
       "    <tr>\n",
       "      <th>TRI</th>\n",
       "      <td>1.916272e+05</td>\n",
       "      <td>0.0</td>\n",
       "      <td>0</td>\n",
       "      <td>0</td>\n",
       "      <td>0</td>\n",
       "      <td>0</td>\n",
       "      <td>0</td>\n",
       "      <td>0</td>\n",
       "      <td>0</td>\n",
       "      <td>0</td>\n",
       "      <td>...</td>\n",
       "      <td>0</td>\n",
       "      <td>0</td>\n",
       "      <td>0</td>\n",
       "      <td>0</td>\n",
       "      <td>0</td>\n",
       "      <td>0</td>\n",
       "      <td>0</td>\n",
       "      <td>0</td>\n",
       "      <td>0</td>\n",
       "      <td>0</td>\n",
       "    </tr>\n",
       "    <tr>\n",
       "      <th>CMTC</th>\n",
       "      <td>8.728300e+05</td>\n",
       "      <td>0.0</td>\n",
       "      <td>0</td>\n",
       "      <td>0</td>\n",
       "      <td>0</td>\n",
       "      <td>0</td>\n",
       "      <td>0</td>\n",
       "      <td>0</td>\n",
       "      <td>0</td>\n",
       "      <td>0</td>\n",
       "      <td>...</td>\n",
       "      <td>0</td>\n",
       "      <td>0</td>\n",
       "      <td>0</td>\n",
       "      <td>0</td>\n",
       "      <td>0</td>\n",
       "      <td>0</td>\n",
       "      <td>0</td>\n",
       "      <td>0</td>\n",
       "      <td>0</td>\n",
       "      <td>0</td>\n",
       "    </tr>\n",
       "    <tr>\n",
       "      <th>CHAT</th>\n",
       "      <td>1.000000e+09</td>\n",
       "      <td>-1.0</td>\n",
       "      <td>0</td>\n",
       "      <td>0</td>\n",
       "      <td>0</td>\n",
       "      <td>0</td>\n",
       "      <td>0</td>\n",
       "      <td>0</td>\n",
       "      <td>0</td>\n",
       "      <td>0</td>\n",
       "      <td>...</td>\n",
       "      <td>0</td>\n",
       "      <td>0</td>\n",
       "      <td>0</td>\n",
       "      <td>0</td>\n",
       "      <td>0</td>\n",
       "      <td>0</td>\n",
       "      <td>0</td>\n",
       "      <td>0</td>\n",
       "      <td>0</td>\n",
       "      <td>0</td>\n",
       "    </tr>\n",
       "  </tbody>\n",
       "</table>\n",
       "<p>5 rows × 83 columns</p>\n",
       "</div>"
      ],
      "text/plain": [
       "      TotalCoinsMined  MaxSupply  Algorithm_Autolykos  Algorithm_BEP-2  \\\n",
       "42       4.199995e+01       42.0                    0                0   \n",
       "NSR      6.178572e+09        0.0                    0                0   \n",
       "TRI      1.916272e+05        0.0                    0                0   \n",
       "CMTC     8.728300e+05        0.0                    0                0   \n",
       "CHAT     1.000000e+09       -1.0                    0                0   \n",
       "\n",
       "      Algorithm_BEP-20 Token  Algorithm_BLAKE256  Algorithm_BMW512 / Echo512  \\\n",
       "42                         0                   0                           0   \n",
       "NSR                        0                   0                           0   \n",
       "TRI                        0                   0                           0   \n",
       "CMTC                       0                   0                           0   \n",
       "CHAT                       0                   0                           0   \n",
       "\n",
       "      Algorithm_Blake2B + SHA3  Algorithm_Blake2b  Algorithm_C31  ...  \\\n",
       "42                           0                  0              0  ...   \n",
       "NSR                          0                  0              0  ...   \n",
       "TRI                          0                  0              0  ...   \n",
       "CMTC                         0                  0              0  ...   \n",
       "CHAT                         0                  0              0  ...   \n",
       "\n",
       "      ProofType_PoW/PoSe  ProofType_PoW/nPoS  ProofType_ProgPoW/PoS  \\\n",
       "42                     0                   0                      0   \n",
       "NSR                    0                   0                      0   \n",
       "TRI                    0                   0                      0   \n",
       "CMTC                   0                   0                      0   \n",
       "CHAT                   0                   0                      0   \n",
       "\n",
       "      ProofType_Proof of Authority  ProofType_Proof-of-Work  ProofType_SPoS  \\\n",
       "42                               0                        0               0   \n",
       "NSR                              0                        0               0   \n",
       "TRI                              0                        0               0   \n",
       "CMTC                             0                        0               0   \n",
       "CHAT                             0                        0               0   \n",
       "\n",
       "      ProofType_TPoS  ProofType_Zero-Knowledge Proof  ProofType_dPoW  \\\n",
       "42                 0                               0               0   \n",
       "NSR                0                               0               0   \n",
       "TRI                0                               0               0   \n",
       "CMTC               0                               0               0   \n",
       "CHAT               0                               0               0   \n",
       "\n",
       "      ProofType_dPoW/PoW  \n",
       "42                     0  \n",
       "NSR                    0  \n",
       "TRI                    0  \n",
       "CMTC                   0  \n",
       "CHAT                   0  \n",
       "\n",
       "[5 rows x 83 columns]"
      ]
     },
     "execution_count": 55,
     "metadata": {},
     "output_type": "execute_result"
    }
   ],
   "source": [
    "# Create dummy variables for text features\n",
    "X = pd.get_dummies(crypto_df)\n",
    "X.head()"
   ]
  },
  {
   "cell_type": "code",
   "execution_count": 56,
   "metadata": {},
   "outputs": [
    {
     "data": {
      "text/plain": [
       "(140, 83)"
      ]
     },
     "execution_count": 56,
     "metadata": {},
     "output_type": "execute_result"
    }
   ],
   "source": [
    "# Standardize data\n",
    "X_scaled = StandardScaler().fit_transform(X)\n",
    "X_scaled.shape"
   ]
  },
  {
   "cell_type": "markdown",
   "metadata": {},
   "source": [
    "### Reducing Dimensions Using PCA"
   ]
  },
  {
   "cell_type": "code",
   "execution_count": 57,
   "metadata": {},
   "outputs": [],
   "source": [
    "# Use PCA to reduce dimensions to 3 principal components\n",
    "pca = PCA(n_components=3)"
   ]
  },
  {
   "cell_type": "code",
   "execution_count": 58,
   "metadata": {},
   "outputs": [
    {
     "data": {
      "text/html": [
       "<div>\n",
       "<style scoped>\n",
       "    .dataframe tbody tr th:only-of-type {\n",
       "        vertical-align: middle;\n",
       "    }\n",
       "\n",
       "    .dataframe tbody tr th {\n",
       "        vertical-align: top;\n",
       "    }\n",
       "\n",
       "    .dataframe thead th {\n",
       "        text-align: right;\n",
       "    }\n",
       "</style>\n",
       "<table border=\"1\" class=\"dataframe\">\n",
       "  <thead>\n",
       "    <tr style=\"text-align: right;\">\n",
       "      <th></th>\n",
       "      <th>PC1</th>\n",
       "      <th>PC2</th>\n",
       "      <th>PC3</th>\n",
       "    </tr>\n",
       "  </thead>\n",
       "  <tbody>\n",
       "    <tr>\n",
       "      <th>42</th>\n",
       "      <td>0.222850</td>\n",
       "      <td>-1.326062</td>\n",
       "      <td>-1.343658</td>\n",
       "    </tr>\n",
       "    <tr>\n",
       "      <th>NSR</th>\n",
       "      <td>0.696263</td>\n",
       "      <td>-1.169299</td>\n",
       "      <td>-0.312068</td>\n",
       "    </tr>\n",
       "    <tr>\n",
       "      <th>TRI</th>\n",
       "      <td>0.654793</td>\n",
       "      <td>-1.974566</td>\n",
       "      <td>-1.626910</td>\n",
       "    </tr>\n",
       "    <tr>\n",
       "      <th>CMTC</th>\n",
       "      <td>-0.853523</td>\n",
       "      <td>0.447471</td>\n",
       "      <td>-0.364626</td>\n",
       "    </tr>\n",
       "    <tr>\n",
       "      <th>CHAT</th>\n",
       "      <td>0.222854</td>\n",
       "      <td>-1.326058</td>\n",
       "      <td>-1.343659</td>\n",
       "    </tr>\n",
       "  </tbody>\n",
       "</table>\n",
       "</div>"
      ],
      "text/plain": [
       "           PC1       PC2       PC3\n",
       "42    0.222850 -1.326062 -1.343658\n",
       "NSR   0.696263 -1.169299 -0.312068\n",
       "TRI   0.654793 -1.974566 -1.626910\n",
       "CMTC -0.853523  0.447471 -0.364626\n",
       "CHAT  0.222854 -1.326058 -1.343659"
      ]
     },
     "execution_count": 58,
     "metadata": {},
     "output_type": "execute_result"
    }
   ],
   "source": [
    "# Create a DataFrame with the principal components data\n",
    "pc_df = pd.DataFrame(\n",
    "    data=pca.fit_transform(X_scaled), \n",
    "    columns=['PC1', 'PC2', 'PC3'], \n",
    "    index=crypto_df.index,\n",
    ")\n",
    "\n",
    "pc_df.head()"
   ]
  },
  {
   "cell_type": "code",
   "execution_count": 59,
   "metadata": {},
   "outputs": [
    {
     "data": {
      "text/plain": [
       "2.0801341930050308"
      ]
     },
     "execution_count": 59,
     "metadata": {},
     "output_type": "execute_result"
    }
   ],
   "source": [
    "sum(pca.components_[2])"
   ]
  },
  {
   "cell_type": "markdown",
   "metadata": {},
   "source": [
    "### Clustering Crytocurrencies Using K-Means\n",
    "\n",
    "#### Find the Best Value for `k` Using the Elbow Curve"
   ]
  },
  {
   "cell_type": "code",
   "execution_count": 60,
   "metadata": {},
   "outputs": [
    {
     "data": {},
     "metadata": {},
     "output_type": "display_data"
    },
    {
     "data": {
      "application/vnd.holoviews_exec.v0+json": "",
      "text/html": [
       "<div id='1002'>\n",
       "\n",
       "\n",
       "\n",
       "\n",
       "\n",
       "  <div class=\"bk-root\" id=\"09dc0caa-9521-4010-8377-4cb35c7e043c\" data-root-id=\"1002\"></div>\n",
       "</div>\n",
       "<script type=\"application/javascript\">(function(root) {\n",
       "  function embed_document(root) {\n",
       "    var docs_json = {\"65836d4e-debf-4e0e-8f2f-2d984d383755\":{\"defs\":[{\"extends\":null,\"module\":null,\"name\":\"ReactiveHTML1\",\"overrides\":[],\"properties\":[]},{\"extends\":null,\"module\":null,\"name\":\"FlexBox1\",\"overrides\":[],\"properties\":[{\"default\":\"flex-start\",\"kind\":null,\"name\":\"align_content\"},{\"default\":\"flex-start\",\"kind\":null,\"name\":\"align_items\"},{\"default\":\"row\",\"kind\":null,\"name\":\"flex_direction\"},{\"default\":\"wrap\",\"kind\":null,\"name\":\"flex_wrap\"},{\"default\":\"flex-start\",\"kind\":null,\"name\":\"justify_content\"}]},{\"extends\":null,\"module\":null,\"name\":\"GridStack1\",\"overrides\":[],\"properties\":[{\"default\":\"warn\",\"kind\":null,\"name\":\"mode\"},{\"default\":null,\"kind\":null,\"name\":\"ncols\"},{\"default\":null,\"kind\":null,\"name\":\"nrows\"},{\"default\":true,\"kind\":null,\"name\":\"allow_resize\"},{\"default\":true,\"kind\":null,\"name\":\"allow_drag\"},{\"default\":[],\"kind\":null,\"name\":\"state\"}]},{\"extends\":null,\"module\":null,\"name\":\"click1\",\"overrides\":[],\"properties\":[{\"default\":\"\",\"kind\":null,\"name\":\"terminal_output\"},{\"default\":\"\",\"kind\":null,\"name\":\"debug_name\"},{\"default\":0,\"kind\":null,\"name\":\"clears\"}]},{\"extends\":null,\"module\":null,\"name\":\"TemplateActions1\",\"overrides\":[],\"properties\":[{\"default\":0,\"kind\":null,\"name\":\"open_modal\"},{\"default\":0,\"kind\":null,\"name\":\"close_modal\"}]},{\"extends\":null,\"module\":null,\"name\":\"MaterialTemplateActions1\",\"overrides\":[],\"properties\":[{\"default\":0,\"kind\":null,\"name\":\"open_modal\"},{\"default\":0,\"kind\":null,\"name\":\"close_modal\"}]}],\"roots\":{\"references\":[{\"attributes\":{},\"id\":\"1012\",\"type\":\"LinearScale\"},{\"attributes\":{},\"id\":\"1049\",\"type\":\"AllLabels\"},{\"attributes\":{\"callback\":null,\"renderers\":[{\"id\":\"1043\"}],\"tags\":[\"hv_created\"],\"tooltips\":[[\"k\",\"@{k}\"],[\"inertia\",\"@{inertia}\"]]},\"id\":\"1006\",\"type\":\"HoverTool\"},{\"attributes\":{\"ticks\":[1,2,3,4,5,6,7,8,9,10]},\"id\":\"1046\",\"type\":\"FixedTicker\"},{\"attributes\":{\"children\":[{\"id\":\"1003\"},{\"id\":\"1007\"},{\"id\":\"1073\"}],\"margin\":[0,0,0,0],\"name\":\"Row01627\",\"tags\":[\"embedded\"]},\"id\":\"1002\",\"type\":\"Row\"},{\"attributes\":{\"line_alpha\":0.1,\"line_color\":\"#30a2da\",\"line_width\":2,\"x\":{\"field\":\"k\"},\"y\":{\"field\":\"inertia\"}},\"id\":\"1041\",\"type\":\"Line\"},{\"attributes\":{\"margin\":[5,5,5,5],\"name\":\"HSpacer01631\",\"sizing_mode\":\"stretch_width\"},\"id\":\"1003\",\"type\":\"Spacer\"},{\"attributes\":{\"end\":1033.7068237810759,\"reset_end\":1033.7068237810759,\"reset_start\":-80.52987245223872,\"start\":-80.52987245223872,\"tags\":[[[\"inertia\",\"inertia\",null]]]},\"id\":\"1005\",\"type\":\"Range1d\"},{\"attributes\":{},\"id\":\"1061\",\"type\":\"UnionRenderers\"},{\"attributes\":{},\"id\":\"1053\",\"type\":\"BasicTickFormatter\"},{\"attributes\":{\"coordinates\":null,\"group\":null,\"text\":\"Elbow Curve\",\"text_color\":\"black\",\"text_font_size\":\"12pt\"},\"id\":\"1008\",\"type\":\"Title\"},{\"attributes\":{\"axis_label\":\"k\",\"coordinates\":null,\"formatter\":{\"id\":\"1048\"},\"group\":null,\"major_label_policy\":{\"id\":\"1049\"},\"ticker\":{\"id\":\"1046\"}},\"id\":\"1016\",\"type\":\"LinearAxis\"},{\"attributes\":{},\"id\":\"1014\",\"type\":\"LinearScale\"},{\"attributes\":{\"coordinates\":null,\"data_source\":{\"id\":\"1037\"},\"glyph\":{\"id\":\"1040\"},\"group\":null,\"hover_glyph\":null,\"muted_glyph\":{\"id\":\"1042\"},\"nonselection_glyph\":{\"id\":\"1041\"},\"selection_glyph\":{\"id\":\"1045\"},\"view\":{\"id\":\"1044\"}},\"id\":\"1043\",\"type\":\"GlyphRenderer\"},{\"attributes\":{\"end\":10.0,\"reset_end\":10.0,\"reset_start\":1.0,\"start\":1.0,\"tags\":[[[\"k\",\"k\",null]]]},\"id\":\"1004\",\"type\":\"Range1d\"},{\"attributes\":{\"below\":[{\"id\":\"1016\"}],\"center\":[{\"id\":\"1019\"},{\"id\":\"1023\"}],\"height\":300,\"left\":[{\"id\":\"1020\"}],\"margin\":[5,5,5,5],\"min_border_bottom\":10,\"min_border_left\":10,\"min_border_right\":10,\"min_border_top\":10,\"renderers\":[{\"id\":\"1043\"}],\"sizing_mode\":\"fixed\",\"title\":{\"id\":\"1008\"},\"toolbar\":{\"id\":\"1030\"},\"width\":700,\"x_range\":{\"id\":\"1004\"},\"x_scale\":{\"id\":\"1012\"},\"y_range\":{\"id\":\"1005\"},\"y_scale\":{\"id\":\"1014\"}},\"id\":\"1007\",\"subtype\":\"Figure\",\"type\":\"Plot\"},{\"attributes\":{},\"id\":\"1038\",\"type\":\"Selection\"},{\"attributes\":{\"data\":{\"inertia\":{\"__ndarray__\":\"Q8Ukg9RmjUC1Dtq6PRSEQM2+0y/RhnhA9jucnrOlZkC2okV3aU1SQKDONqcH5kpAdwbmp7QvQ0Ci5BncPcw2QEoo43D5QDFAsFwjlHilKEA=\",\"dtype\":\"float64\",\"order\":\"little\",\"shape\":[10]},\"k\":[1,2,3,4,5,6,7,8,9,10]},\"selected\":{\"id\":\"1038\"},\"selection_policy\":{\"id\":\"1061\"}},\"id\":\"1037\",\"type\":\"ColumnDataSource\"},{\"attributes\":{\"axis\":{\"id\":\"1020\"},\"coordinates\":null,\"dimension\":1,\"grid_line_color\":null,\"group\":null,\"ticker\":null},\"id\":\"1023\",\"type\":\"Grid\"},{\"attributes\":{\"line_color\":\"#30a2da\",\"line_width\":2,\"x\":{\"field\":\"k\"},\"y\":{\"field\":\"inertia\"}},\"id\":\"1040\",\"type\":\"Line\"},{\"attributes\":{},\"id\":\"1025\",\"type\":\"PanTool\"},{\"attributes\":{\"axis_label\":\"inertia\",\"coordinates\":null,\"formatter\":{\"id\":\"1053\"},\"group\":null,\"major_label_policy\":{\"id\":\"1054\"},\"ticker\":{\"id\":\"1021\"}},\"id\":\"1020\",\"type\":\"LinearAxis\"},{\"attributes\":{\"margin\":[5,5,5,5],\"name\":\"HSpacer01632\",\"sizing_mode\":\"stretch_width\"},\"id\":\"1073\",\"type\":\"Spacer\"},{\"attributes\":{},\"id\":\"1021\",\"type\":\"BasicTicker\"},{\"attributes\":{\"axis\":{\"id\":\"1016\"},\"coordinates\":null,\"grid_line_color\":null,\"group\":null,\"ticker\":null},\"id\":\"1019\",\"type\":\"Grid\"},{\"attributes\":{},\"id\":\"1026\",\"type\":\"WheelZoomTool\"},{\"attributes\":{},\"id\":\"1048\",\"type\":\"BasicTickFormatter\"},{\"attributes\":{},\"id\":\"1054\",\"type\":\"AllLabels\"},{\"attributes\":{},\"id\":\"1024\",\"type\":\"SaveTool\"},{\"attributes\":{\"overlay\":{\"id\":\"1029\"}},\"id\":\"1027\",\"type\":\"BoxZoomTool\"},{\"attributes\":{},\"id\":\"1028\",\"type\":\"ResetTool\"},{\"attributes\":{\"line_color\":\"#30a2da\",\"line_width\":2,\"x\":{\"field\":\"k\"},\"y\":{\"field\":\"inertia\"}},\"id\":\"1045\",\"type\":\"Line\"},{\"attributes\":{\"bottom_units\":\"screen\",\"coordinates\":null,\"fill_alpha\":0.5,\"fill_color\":\"lightgrey\",\"group\":null,\"left_units\":\"screen\",\"level\":\"overlay\",\"line_alpha\":1.0,\"line_color\":\"black\",\"line_dash\":[4,4],\"line_width\":2,\"right_units\":\"screen\",\"syncable\":false,\"top_units\":\"screen\"},\"id\":\"1029\",\"type\":\"BoxAnnotation\"},{\"attributes\":{\"source\":{\"id\":\"1037\"}},\"id\":\"1044\",\"type\":\"CDSView\"},{\"attributes\":{\"line_alpha\":0.2,\"line_color\":\"#30a2da\",\"line_width\":2,\"x\":{\"field\":\"k\"},\"y\":{\"field\":\"inertia\"}},\"id\":\"1042\",\"type\":\"Line\"},{\"attributes\":{\"tools\":[{\"id\":\"1006\"},{\"id\":\"1024\"},{\"id\":\"1025\"},{\"id\":\"1026\"},{\"id\":\"1027\"},{\"id\":\"1028\"}]},\"id\":\"1030\",\"type\":\"Toolbar\"}],\"root_ids\":[\"1002\"]},\"title\":\"Bokeh Application\",\"version\":\"2.4.1\"}};\n",
       "    var render_items = [{\"docid\":\"65836d4e-debf-4e0e-8f2f-2d984d383755\",\"root_ids\":[\"1002\"],\"roots\":{\"1002\":\"09dc0caa-9521-4010-8377-4cb35c7e043c\"}}];\n",
       "    root.Bokeh.embed.embed_items_notebook(docs_json, render_items);\n",
       "  }\n",
       "  if (root.Bokeh !== undefined && root.Bokeh.Panel !== undefined) {\n",
       "    embed_document(root);\n",
       "  } else {\n",
       "    var attempts = 0;\n",
       "    var timer = setInterval(function(root) {\n",
       "      if (root.Bokeh !== undefined && root.Bokeh.Panel !== undefined) {\n",
       "        clearInterval(timer);\n",
       "        embed_document(root);\n",
       "      } else if (document.readyState == \"complete\") {\n",
       "        attempts++;\n",
       "        if (attempts > 200) {\n",
       "          clearInterval(timer);\n",
       "          console.log(\"Bokeh: ERROR: Unable to run BokehJS code because BokehJS library is missing\");\n",
       "        }\n",
       "      }\n",
       "    }, 25, root)\n",
       "  }\n",
       "})(window);</script>"
      ],
      "text/plain": [
       ":Curve   [k]   (inertia)"
      ]
     },
     "execution_count": 60,
     "metadata": {
      "application/vnd.holoviews_exec.v0+json": {
       "id": "1002"
      }
     },
     "output_type": "execute_result"
    }
   ],
   "source": [
    "inertia = []\n",
    "k = list(range(1, 11))\n",
    "\n",
    "# Calculate the inertia for the range of k values\n",
    "for i in k:\n",
    "    km = KMeans(n_clusters=i, random_state=0)\n",
    "    km.fit(pc_df)\n",
    "    inertia.append(km.inertia_)\n",
    "\n",
    "# Define a DataFrame to plot the Elbow Curve using hvPlot\n",
    "elbow_data = {\"k\": k, \"inertia\": inertia}\n",
    "df_elbow = pd.DataFrame(elbow_data)\n",
    "\n",
    "# Create the Elbow Curve using hvPlot\n",
    "df_elbow.hvplot.line(x=\"k\", y=\"inertia\", title=\"Elbow Curve\", xticks=k)"
   ]
  },
  {
   "cell_type": "markdown",
   "metadata": {},
   "source": [
    "Running K-Means with `k=<your best value for k here>`"
   ]
  },
  {
   "cell_type": "code",
   "execution_count": 61,
   "metadata": {},
   "outputs": [
    {
     "data": {
      "text/html": [
       "<div>\n",
       "<style scoped>\n",
       "    .dataframe tbody tr th:only-of-type {\n",
       "        vertical-align: middle;\n",
       "    }\n",
       "\n",
       "    .dataframe tbody tr th {\n",
       "        vertical-align: top;\n",
       "    }\n",
       "\n",
       "    .dataframe thead th {\n",
       "        text-align: right;\n",
       "    }\n",
       "</style>\n",
       "<table border=\"1\" class=\"dataframe\">\n",
       "  <thead>\n",
       "    <tr style=\"text-align: right;\">\n",
       "      <th></th>\n",
       "      <th>CoinName</th>\n",
       "      <th>Algorithm</th>\n",
       "      <th>ProofType</th>\n",
       "      <th>TotalCoinsMined</th>\n",
       "      <th>MaxSupply</th>\n",
       "      <th>PC1</th>\n",
       "      <th>PC2</th>\n",
       "      <th>PC3</th>\n",
       "      <th>Class</th>\n",
       "    </tr>\n",
       "  </thead>\n",
       "  <tbody>\n",
       "    <tr>\n",
       "      <th>42</th>\n",
       "      <td>42 Coin</td>\n",
       "      <td>Scrypt</td>\n",
       "      <td>PoW/PoS</td>\n",
       "      <td>4.199995e+01</td>\n",
       "      <td>42.0</td>\n",
       "      <td>0.222850</td>\n",
       "      <td>-1.326062</td>\n",
       "      <td>-1.343658</td>\n",
       "      <td>0</td>\n",
       "    </tr>\n",
       "    <tr>\n",
       "      <th>NSR</th>\n",
       "      <td>NuShares</td>\n",
       "      <td>PoS</td>\n",
       "      <td>PoS</td>\n",
       "      <td>6.178572e+09</td>\n",
       "      <td>0.0</td>\n",
       "      <td>0.696263</td>\n",
       "      <td>-1.169299</td>\n",
       "      <td>-0.312068</td>\n",
       "      <td>0</td>\n",
       "    </tr>\n",
       "    <tr>\n",
       "      <th>TRI</th>\n",
       "      <td>Triangles Coin</td>\n",
       "      <td>X13</td>\n",
       "      <td>PoW/PoS</td>\n",
       "      <td>1.916272e+05</td>\n",
       "      <td>0.0</td>\n",
       "      <td>0.654793</td>\n",
       "      <td>-1.974566</td>\n",
       "      <td>-1.626910</td>\n",
       "      <td>0</td>\n",
       "    </tr>\n",
       "    <tr>\n",
       "      <th>CMTC</th>\n",
       "      <td>CometCoin</td>\n",
       "      <td>Scrypt</td>\n",
       "      <td>PoW</td>\n",
       "      <td>8.728300e+05</td>\n",
       "      <td>0.0</td>\n",
       "      <td>-0.853523</td>\n",
       "      <td>0.447471</td>\n",
       "      <td>-0.364626</td>\n",
       "      <td>2</td>\n",
       "    </tr>\n",
       "    <tr>\n",
       "      <th>CHAT</th>\n",
       "      <td>OpenChat</td>\n",
       "      <td>Scrypt</td>\n",
       "      <td>PoW/PoS</td>\n",
       "      <td>1.000000e+09</td>\n",
       "      <td>-1.0</td>\n",
       "      <td>0.222854</td>\n",
       "      <td>-1.326058</td>\n",
       "      <td>-1.343659</td>\n",
       "      <td>0</td>\n",
       "    </tr>\n",
       "  </tbody>\n",
       "</table>\n",
       "</div>"
      ],
      "text/plain": [
       "            CoinName Algorithm ProofType  TotalCoinsMined  MaxSupply  \\\n",
       "42           42 Coin    Scrypt   PoW/PoS     4.199995e+01       42.0   \n",
       "NSR         NuShares       PoS       PoS     6.178572e+09        0.0   \n",
       "TRI   Triangles Coin       X13   PoW/PoS     1.916272e+05        0.0   \n",
       "CMTC       CometCoin    Scrypt       PoW     8.728300e+05        0.0   \n",
       "CHAT        OpenChat    Scrypt   PoW/PoS     1.000000e+09       -1.0   \n",
       "\n",
       "           PC1       PC2       PC3  Class  \n",
       "42    0.222850 -1.326062 -1.343658      0  \n",
       "NSR   0.696263 -1.169299 -0.312068      0  \n",
       "TRI   0.654793 -1.974566 -1.626910      0  \n",
       "CMTC -0.853523  0.447471 -0.364626      2  \n",
       "CHAT  0.222854 -1.326058 -1.343659      0  "
      ]
     },
     "execution_count": 61,
     "metadata": {},
     "output_type": "execute_result"
    }
   ],
   "source": [
    "# Initialize the K-Means model\n",
    "model = KMeans(n_clusters=5, random_state=0)\n",
    "\n",
    "# Fit the model\n",
    "model.fit(pc_df)\n",
    "\n",
    "# Predict clusters\n",
    "predictions = model.predict(pc_df)\n",
    "\n",
    "# Create a new DataFrame including predicted clusters and cryptocurrencies features\n",
    "clustered_df = pd.concat(\n",
    "    [coin_names, crypto_df, pc_df],\n",
    "    join='inner', \n",
    "    axis='columns',\n",
    ")\n",
    "clustered_df['Class'] = predictions\n",
    "clustered_df.head()"
   ]
  },
  {
   "cell_type": "markdown",
   "metadata": {},
   "source": [
    "### Visualizing Results"
   ]
  },
  {
   "cell_type": "markdown",
   "metadata": {},
   "source": [
    "#### Scatter Plot with Tradable Cryptocurrencies"
   ]
  },
  {
   "cell_type": "code",
   "execution_count": 62,
   "metadata": {},
   "outputs": [
    {
     "data": {
      "text/html": [
       "<div>\n",
       "<style scoped>\n",
       "    .dataframe tbody tr th:only-of-type {\n",
       "        vertical-align: middle;\n",
       "    }\n",
       "\n",
       "    .dataframe tbody tr th {\n",
       "        vertical-align: top;\n",
       "    }\n",
       "\n",
       "    .dataframe thead th {\n",
       "        text-align: right;\n",
       "    }\n",
       "</style>\n",
       "<table border=\"1\" class=\"dataframe\">\n",
       "  <thead>\n",
       "    <tr style=\"text-align: right;\">\n",
       "      <th></th>\n",
       "      <th>CoinName</th>\n",
       "      <th>TotalCoinsMined</th>\n",
       "      <th>MaxSupply</th>\n",
       "      <th>Class</th>\n",
       "    </tr>\n",
       "  </thead>\n",
       "  <tbody>\n",
       "    <tr>\n",
       "      <th>0</th>\n",
       "      <td>42 Coin</td>\n",
       "      <td>0.000000e+00</td>\n",
       "      <td>2.047619e-12</td>\n",
       "      <td>0</td>\n",
       "    </tr>\n",
       "    <tr>\n",
       "      <th>1</th>\n",
       "      <td>NuShares</td>\n",
       "      <td>6.240982e-06</td>\n",
       "      <td>4.761905e-14</td>\n",
       "      <td>0</td>\n",
       "    </tr>\n",
       "    <tr>\n",
       "      <th>2</th>\n",
       "      <td>Triangles Coin</td>\n",
       "      <td>1.935204e-10</td>\n",
       "      <td>4.761905e-14</td>\n",
       "      <td>0</td>\n",
       "    </tr>\n",
       "    <tr>\n",
       "      <th>3</th>\n",
       "      <td>CometCoin</td>\n",
       "      <td>8.816040e-10</td>\n",
       "      <td>4.761905e-14</td>\n",
       "      <td>2</td>\n",
       "    </tr>\n",
       "    <tr>\n",
       "      <th>4</th>\n",
       "      <td>OpenChat</td>\n",
       "      <td>1.010101e-06</td>\n",
       "      <td>0.000000e+00</td>\n",
       "      <td>0</td>\n",
       "    </tr>\n",
       "  </tbody>\n",
       "</table>\n",
       "</div>"
      ],
      "text/plain": [
       "         CoinName  TotalCoinsMined     MaxSupply  Class\n",
       "0         42 Coin     0.000000e+00  2.047619e-12      0\n",
       "1        NuShares     6.240982e-06  4.761905e-14      0\n",
       "2  Triangles Coin     1.935204e-10  4.761905e-14      0\n",
       "3       CometCoin     8.816040e-10  4.761905e-14      2\n",
       "4        OpenChat     1.010101e-06  0.000000e+00      0"
      ]
     },
     "execution_count": 62,
     "metadata": {},
     "output_type": "execute_result"
    }
   ],
   "source": [
    "# Scale data to create the scatter plot\n",
    "scatter_data = MinMaxScaler().fit_transform(\n",
    "    clustered_df[['TotalCoinsMined', 'MaxSupply']]\n",
    ")\n",
    "scatterplot_df = pd.DataFrame(data=scatter_data, columns=['TotalCoinsMined', 'MaxSupply'])\n",
    "scatterplot_df.insert(0, 'CoinName', coin_names.values)\n",
    "scatterplot_df['Class'] = clustered_df['Class'].values\n",
    "scatterplot_df.head()"
   ]
  },
  {
   "cell_type": "code",
   "execution_count": 63,
   "metadata": {},
   "outputs": [
    {
     "data": {},
     "metadata": {},
     "output_type": "display_data"
    },
    {
     "data": {
      "application/vnd.holoviews_exec.v0+json": "",
      "text/html": [
       "<div id='1120'>\n",
       "\n",
       "\n",
       "\n",
       "\n",
       "\n",
       "  <div class=\"bk-root\" id=\"38c6bd29-8c13-4d09-b3f2-cd572303fe52\" data-root-id=\"1120\"></div>\n",
       "</div>\n",
       "<script type=\"application/javascript\">(function(root) {\n",
       "  function embed_document(root) {\n",
       "    var docs_json = {\"f077d662-7a7a-48f0-872a-46e294793fb3\":{\"defs\":[{\"extends\":null,\"module\":null,\"name\":\"ReactiveHTML1\",\"overrides\":[],\"properties\":[]},{\"extends\":null,\"module\":null,\"name\":\"FlexBox1\",\"overrides\":[],\"properties\":[{\"default\":\"flex-start\",\"kind\":null,\"name\":\"align_content\"},{\"default\":\"flex-start\",\"kind\":null,\"name\":\"align_items\"},{\"default\":\"row\",\"kind\":null,\"name\":\"flex_direction\"},{\"default\":\"wrap\",\"kind\":null,\"name\":\"flex_wrap\"},{\"default\":\"flex-start\",\"kind\":null,\"name\":\"justify_content\"}]},{\"extends\":null,\"module\":null,\"name\":\"GridStack1\",\"overrides\":[],\"properties\":[{\"default\":\"warn\",\"kind\":null,\"name\":\"mode\"},{\"default\":null,\"kind\":null,\"name\":\"ncols\"},{\"default\":null,\"kind\":null,\"name\":\"nrows\"},{\"default\":true,\"kind\":null,\"name\":\"allow_resize\"},{\"default\":true,\"kind\":null,\"name\":\"allow_drag\"},{\"default\":[],\"kind\":null,\"name\":\"state\"}]},{\"extends\":null,\"module\":null,\"name\":\"click1\",\"overrides\":[],\"properties\":[{\"default\":\"\",\"kind\":null,\"name\":\"terminal_output\"},{\"default\":\"\",\"kind\":null,\"name\":\"debug_name\"},{\"default\":0,\"kind\":null,\"name\":\"clears\"}]},{\"extends\":null,\"module\":null,\"name\":\"TemplateActions1\",\"overrides\":[],\"properties\":[{\"default\":0,\"kind\":null,\"name\":\"open_modal\"},{\"default\":0,\"kind\":null,\"name\":\"close_modal\"}]},{\"extends\":null,\"module\":null,\"name\":\"MaterialTemplateActions1\",\"overrides\":[],\"properties\":[{\"default\":0,\"kind\":null,\"name\":\"open_modal\"},{\"default\":0,\"kind\":null,\"name\":\"close_modal\"}]}],\"roots\":{\"references\":[{\"attributes\":{},\"id\":\"1164\",\"type\":\"AllLabels\"},{\"attributes\":{\"angle\":{\"value\":0.0},\"fill_alpha\":{\"value\":1.0},\"fill_color\":{\"value\":\"#e5ae38\"},\"hatch_alpha\":{\"value\":1.0},\"hatch_color\":{\"value\":\"#e5ae38\"},\"hatch_scale\":{\"value\":12.0},\"hatch_weight\":{\"value\":1.0},\"line_alpha\":{\"value\":1.0},\"line_cap\":{\"value\":\"butt\"},\"line_color\":{\"value\":\"#e5ae38\"},\"line_dash\":{\"value\":[]},\"line_dash_offset\":{\"value\":0},\"line_join\":{\"value\":\"bevel\"},\"line_width\":{\"value\":1},\"marker\":{\"value\":\"circle\"},\"size\":{\"value\":5.477225575051661},\"x\":{\"field\":\"PC1\"},\"y\":{\"field\":\"PC2\"}},\"id\":\"1231\",\"type\":\"Scatter\"},{\"attributes\":{\"margin\":[5,5,5,5],\"name\":\"HSpacer01909\",\"sizing_mode\":\"stretch_width\"},\"id\":\"1121\",\"type\":\"Spacer\"},{\"attributes\":{\"source\":{\"id\":\"1232\"}},\"id\":\"1239\",\"type\":\"CDSView\"},{\"attributes\":{\"data\":{\"Algorithm\":[\"Scrypt\",\"PoS\",\"X13\",\"Scrypt\",\"X16RT\",\"HEX\",\"POS 3.0\",\"Quark\",\"Ethash\",\"Scrypt\",\"SHA-256\",\"X13\",\"Scrypt\",\"PoS\",\"PoS\",\"CryptoNight\",\"Shabal256\",\"Scrypt\",\"Quark\",\"Scrypt\",\"X11\",\"X11\",\"X11\",\"POS 3.0\",\"X11\",\"Scrypt\",\"Quark\",\"BLAKE256\",\"ProgPowZ\",\"BMW512 / Echo512\",\"Equihash\",\"BLAKE256\",\"Loopchain\",\"Scrypt\",\"Scrypt\",\"Equihash210,9\",\"PoS\",\"VBFT\",\"Scrypt\",\"X13\",\"Scrypt\",\"Ouroboros\",\"Scrypt\",\"X13\",\"X11\",\"X13\",\"Scrypt\"],\"Class\":[0,0,0,0,0,0,0,0,0,0,0,0,0,0,0,0,0,0,0,0,0,0,0,0,0,0,0,0,0,0,0,0,0,0,0,0,0,0,0,0,0,0,0,0,0,0,0],\"CoinName\":[\"42 Coin\",\"NuShares\",\"Triangles Coin\",\"OpenChat\",\"VEIL\",\"XDNA\",\"TokenPay\",\"QuarkCoin\",\"BeforeCoinMarketCap\",\"VeriCoin\",\"Emercoin\",\"Stratis\",\"Auroracoin\",\"Validity\",\"Anchor Protocol\",\"Beldex\",\"Signa\",\"Canada eCoin\",\"BlockNet\",\"USX Quantum\",\"TorCoin\",\"SuperCoin\",\"StakeNet\",\"QTUM\",\"IOCoin\",\"WhiteCoin\",\"Private Instant Verified Transaction\",\"Decred\",\"Zano\",\"DigitalNote\",\"Zelcash\",\"HyperCash\",\"ICON Project\",\"SaluS\",\"SafeExchangeCoin\",\"Aion\",\"Nxt\",\"Ontology\",\"PotCoin\",\"Bitcoin Diamond\",\"BlackCoin\",\"Cardano\",\"Reddcoin\",\"CloakCoin\",\"Dash\",\"NavCoin\",\"NovaCoin\"],\"MaxSupply\":{\"__ndarray__\":\"AAAAAAAARUAAAAAAAAAAAAAAAAAAAAAAAAAAAAAA8L8AAAAAo+GxQQAAAAAAAAAAAAAAAITXd0EAAAAAAADwvwAAAAAAAPC/AAAAAAAA8L8AAAAAAADwvwAAAAAAAPC/AAAAAAAA8L8AAAAAiCphQQAAAAAAAPC/AAAAGLBwAkIAAAAAAADwvwAAAFACmZlBAAAAAAAA8L8AAAAAAADwvwAAAAAAAAAAAAAAAAAA8L8AAAAAAADwvwAAAAn1tJlBAAAAABj7dEEAAAAAZc3NQQAAAAAAAPC/AAAAAPQGdEEAAAAAAADwvwAAAAAAAPC/AAAAALEIqUEAAAAA9AaUQQAAAAAAAPC/AAAAAAAA8L8AAAAAAADwvwAAAAAAAPC/AAAAAGXNzUEAAAAAAADwvwAAAACxCLlBAAAAALEIqUEAAAAAhNeXQQAAAARr9CRCAAAAAAAA8L8AAAAAAADwvwAAAABCBnJBAAAAAAAA8L8AAAAAAADwvw==\",\"dtype\":\"float64\",\"order\":\"little\",\"shape\":[47]},\"PC1\":{\"__ndarray__\":\"frfGNlWGzD9Kgy2UyEfmPz9NDJMP9OQ/PgtzW32GzD8Hkeosf8/jP4Qi7Xypz+M/JBQDsmJG7D+FOr/yKwTkP+cQXAwExLA/Lr2ZIBQmjT+VfoXu8OnHv9W0/jir1+k/RMEQOVmGzD9gxrDWiUfmPxoij5uUR+Y//ctgCnz70j/Z8BCqdsrdP5xdQ49mIo0/un43OikE5D+5+h6WvYbMP3kq20ldquA/VsfWAPiN5T/65qwdPq7gP+jxsllcRuw/dFfneluq4D+IdXpoIYXMPwaLjdUpBOQ/PIaS05Dp4z83NRiQqc/jP4ADhYgz0OM/tZKTIhrYm7+ITdmui+njP3WlvgSpIew/xrxnQVWGzD+HmLLVZfjAPzXtBPqxz+M/UlERqYfp4T/bKNEuqiHsP3rkZOTMhcw/GUOabv/z5D8dVNkQTwrYP8mbieTsCew/5peAQjGLzD861pahD/TkP5EPvEg5ruA/6KebTxD05D/rEfRcVYbMPw==\",\"dtype\":\"float64\",\"order\":\"little\",\"shape\":[47]},\"PC2\":{\"__ndarray__\":\"EnfHvow39b8C1zgic7Xyvwj/973Sl/+/KmdjsYg39b+kTMi6c6//v+zzr8eTr/+/K67YypSQ9r+pLSi2oQgAwB4DrRyTyOu/GZPIYi/X6L/tqQQzIo7fv9Scizamfvq/MxsuV4w39b/Tj+aii7Xyv8DLbR6ItfK/IQBUNytO47/q8vrqiqXzvw85/xIY1+i/Qf3HQqIIAMCv0481gjf1vw2VPEj/gvq/BKtNIdNp9b/VMDq08gf2v4V6QLWPkPa/COA1+/2C+r+n+aZ+Tzf1vziFayOiCADAFGzqGcPf/78qiG6/k6//v87ePlNYr/+/yT7tfk9I57+YN51cv9//v59lmoVzbva/ZAy1vYw39b+U/ssCOSvtv2eHwR+Qr/+/gFHlPese8b/z3zkFc272v9JxJLtzN/W/iMJW38WX/7/jjYTJWh7wv0HZQlk3W/a/jHTXKQ839b/35Ri40pf/v9ySJZ7xB/a/q7/UcdKX/79DJO26jDf1vw==\",\"dtype\":\"float64\",\"order\":\"little\",\"shape\":[47]},\"TotalCoinsMined\":{\"__ndarray__\":\"nMr9af7/RECVZd1wWAT3QbdCWK1ZZAdBAAAAAGXNzUEqB9z+tH6cQQAAAKDl12BBAAAAkOTddEGx0yodKq6wQSX+yIHN3P9BgaT0Iq28gEE8L9XKY/KGQdXfz/pVYKBBeN3ODVDPl0GkGMNhan9RQQAAAABlzc1BAACA5Gzd1EEAAAC0Ze7fQQAAAIT605dB4qCw27iqYEEAAABAG1/jQQAAAADQEmNBI+iZ7p7UiUFH0uuOEySfQQAAAOjj1phBceuW55qyckEAAIB+jJnMQRxHXYagf5BBj2JNGfHQakEMAnEHnTRpQVnvAAfoJP5BAAAAAN45ukEE5qEq8X2FQTo7ioNBxctBFyr/tsONL0EAAMD////fQQAAAFfgJr5BQAb4u8PFzUEAAAAAZc3NQUMmaxa5IatBAAAAd/1AqEF9LcWmmkaNQf3FcCxaGB9Cnv1Bv6HcHEKfS0L1V1JWQeve7b3zg2RBfHURLUaLkUE0v5rhFldMQQ==\",\"dtype\":\"float64\",\"order\":\"little\",\"shape\":[47]}},\"selected\":{\"id\":\"1166\"},\"selection_policy\":{\"id\":\"1180\"}},\"id\":\"1165\",\"type\":\"ColumnDataSource\"},{\"attributes\":{\"fill_alpha\":{\"value\":0.1},\"fill_color\":{\"value\":\"#30a2da\"},\"hatch_alpha\":{\"value\":0.1},\"hatch_color\":{\"value\":\"#30a2da\"},\"line_alpha\":{\"value\":0.1},\"line_color\":{\"value\":\"#30a2da\"},\"size\":{\"value\":5.477225575051661},\"x\":{\"field\":\"PC1\"},\"y\":{\"field\":\"PC2\"}},\"id\":\"1169\",\"type\":\"Scatter\"},{\"attributes\":{\"source\":{\"id\":\"1258\"}},\"id\":\"1265\",\"type\":\"CDSView\"},{\"attributes\":{\"fill_alpha\":{\"value\":0.2},\"fill_color\":{\"value\":\"#6d904f\"},\"hatch_alpha\":{\"value\":0.2},\"hatch_color\":{\"value\":\"#6d904f\"},\"line_alpha\":{\"value\":0.2},\"line_color\":{\"value\":\"#6d904f\"},\"size\":{\"value\":5.477225575051661},\"x\":{\"field\":\"PC1\"},\"y\":{\"field\":\"PC2\"}},\"id\":\"1237\",\"type\":\"Scatter\"},{\"attributes\":{\"coordinates\":null,\"data_source\":{\"id\":\"1258\"},\"glyph\":{\"id\":\"1261\"},\"group\":null,\"hover_glyph\":null,\"muted_glyph\":{\"id\":\"1263\"},\"nonselection_glyph\":{\"id\":\"1262\"},\"selection_glyph\":{\"id\":\"1285\"},\"view\":{\"id\":\"1265\"}},\"id\":\"1264\",\"type\":\"GlyphRenderer\"},{\"attributes\":{},\"id\":\"1163\",\"type\":\"BasicTickFormatter\"},{\"attributes\":{},\"id\":\"1281\",\"type\":\"UnionRenderers\"},{\"attributes\":{\"fill_alpha\":{\"value\":0.1},\"fill_color\":{\"value\":\"#6d904f\"},\"hatch_alpha\":{\"value\":0.1},\"hatch_color\":{\"value\":\"#6d904f\"},\"line_alpha\":{\"value\":0.1},\"line_color\":{\"value\":\"#6d904f\"},\"size\":{\"value\":5.477225575051661},\"x\":{\"field\":\"PC1\"},\"y\":{\"field\":\"PC2\"}},\"id\":\"1236\",\"type\":\"Scatter\"},{\"attributes\":{\"label\":{\"value\":\"4\"},\"renderers\":[{\"id\":\"1264\"}]},\"id\":\"1284\",\"type\":\"LegendItem\"},{\"attributes\":{\"angle\":{\"value\":0.0},\"fill_alpha\":{\"value\":1.0},\"fill_color\":{\"value\":\"#fc4f30\"},\"hatch_alpha\":{\"value\":1.0},\"hatch_color\":{\"value\":\"#fc4f30\"},\"hatch_scale\":{\"value\":12.0},\"hatch_weight\":{\"value\":1.0},\"line_alpha\":{\"value\":1.0},\"line_cap\":{\"value\":\"butt\"},\"line_color\":{\"value\":\"#fc4f30\"},\"line_dash\":{\"value\":[]},\"line_dash_offset\":{\"value\":0},\"line_join\":{\"value\":\"bevel\"},\"line_width\":{\"value\":1},\"marker\":{\"value\":\"circle\"},\"size\":{\"value\":5.477225575051661},\"x\":{\"field\":\"PC1\"},\"y\":{\"field\":\"PC2\"}},\"id\":\"1207\",\"type\":\"Scatter\"},{\"attributes\":{\"click_policy\":\"mute\",\"coordinates\":null,\"group\":null,\"items\":[{\"id\":\"1184\"},{\"id\":\"1206\"},{\"id\":\"1230\"},{\"id\":\"1256\"},{\"id\":\"1284\"}],\"location\":[0,0],\"title\":\"Class\"},\"id\":\"1183\",\"type\":\"Legend\"},{\"attributes\":{\"end\":12.111771110070274,\"reset_end\":12.111771110070274,\"reset_start\":-2.6204611697531393,\"start\":-2.6204611697531393,\"tags\":[[[\"PC1\",\"PC1\",null]]]},\"id\":\"1122\",\"type\":\"Range1d\"},{\"attributes\":{},\"id\":\"1166\",\"type\":\"Selection\"},{\"attributes\":{},\"id\":\"1134\",\"type\":\"LinearScale\"},{\"attributes\":{\"fill_alpha\":{\"value\":0.1},\"fill_color\":{\"value\":\"#e5ae38\"},\"hatch_alpha\":{\"value\":0.1},\"hatch_color\":{\"value\":\"#e5ae38\"},\"line_alpha\":{\"value\":0.1},\"line_color\":{\"value\":\"#e5ae38\"},\"size\":{\"value\":5.477225575051661},\"x\":{\"field\":\"PC1\"},\"y\":{\"field\":\"PC2\"}},\"id\":\"1212\",\"type\":\"Scatter\"},{\"attributes\":{\"label\":{\"value\":\"3\"},\"renderers\":[{\"id\":\"1238\"}]},\"id\":\"1256\",\"type\":\"LegendItem\"},{\"attributes\":{\"coordinates\":null,\"data_source\":{\"id\":\"1165\"},\"glyph\":{\"id\":\"1168\"},\"group\":null,\"hover_glyph\":null,\"muted_glyph\":{\"id\":\"1170\"},\"nonselection_glyph\":{\"id\":\"1169\"},\"selection_glyph\":{\"id\":\"1185\"},\"view\":{\"id\":\"1172\"}},\"id\":\"1171\",\"type\":\"GlyphRenderer\"},{\"attributes\":{\"label\":{\"value\":\"2\"},\"renderers\":[{\"id\":\"1214\"}]},\"id\":\"1230\",\"type\":\"LegendItem\"},{\"attributes\":{\"fill_alpha\":{\"value\":0.2},\"fill_color\":{\"value\":\"#30a2da\"},\"hatch_alpha\":{\"value\":0.2},\"hatch_color\":{\"value\":\"#30a2da\"},\"line_alpha\":{\"value\":0.2},\"line_color\":{\"value\":\"#30a2da\"},\"size\":{\"value\":5.477225575051661},\"x\":{\"field\":\"PC1\"},\"y\":{\"field\":\"PC2\"}},\"id\":\"1170\",\"type\":\"Scatter\"},{\"attributes\":{\"callback\":null,\"renderers\":[{\"id\":\"1171\"},{\"id\":\"1192\"},{\"id\":\"1214\"},{\"id\":\"1238\"},{\"id\":\"1264\"}],\"tags\":[\"hv_created\"],\"tooltips\":[[\"Class\",\"@{Class}\"],[\"PC1\",\"@{PC1}\"],[\"PC2\",\"@{PC2}\"],[\"CoinName\",\"@{CoinName}\"],[\"Algorithm\",\"@{Algorithm}\"],[\"MaxSupply\",\"@{MaxSupply}\"],[\"TotalCoinsMined\",\"@{TotalCoinsMined}\"]]},\"id\":\"1124\",\"type\":\"HoverTool\"},{\"attributes\":{\"end\":9.51784644211769,\"reset_end\":9.51784644211769,\"reset_start\":-3.051675936233196,\"start\":-3.051675936233196,\"tags\":[[[\"PC2\",\"PC2\",null]]]},\"id\":\"1123\",\"type\":\"Range1d\"},{\"attributes\":{\"data\":{\"Algorithm\":[\"DPoS\",\"DPoS\",\"SHA-512\",\"DPoS\",\"DPoS\",\"SHA-512\",\"DPoS\",\"DPoS\",\"DPoS\",\"DPoS\"],\"Class\":[1,1,1,1,1,1,1,1,1,1],\"CoinName\":[\"Lamden Tau\",\"Rise\",\"Kcash\",\"Lisk\",\"Oxycoin\",\"Bitshares\",\"EOS\",\"Shift\",\"Achain\",\"ARK\"],\"MaxSupply\":{\"__ndarray__\":\"AAAAAAAA8L8AAAAAAADwvwAAAAAAAPC/AAAAAAAA8L8AAAAAAADwvwAAwBCL0+pBAAAAAAAA8L8AAAAAAADwvwAAAAAAAAAAAAAAAAAA8L8=\",\"dtype\":\"float64\",\"order\":\"little\",\"shape\":[10]},\"PC1\":{\"__ndarray__\":\"T/7gbP2lC0Biw5MS2PT+P6bXDs8OzABA8lmMKv2lC0DI6G2e/6ULQAlYuwJF+ghAOpbJc/+lC0D0FhDX/KULQK390k//pQtAK3LRN/2lC0A=\",\"dtype\":\"float64\",\"order\":\"little\",\"shape\":[10]},\"PC2\":{\"__ndarray__\":\"DbLtbKye9j8yXcx1wX3JvyaCQDm+Sco/B5PLAaye9j/3TOn3r572P+prUgv6V/I/KugJs6+e9j/YXvR6q572P8b383ivnvY/81s6F6ye9j8=\",\"dtype\":\"float64\",\"order\":\"little\",\"shape\":[10]},\"TotalCoinsMined\":{\"__ndarray__\":\"AAAAjh+TrUGF69Gg06KnQQAAAABlzc1BAAAAqoRDoUEUrtdyjLnQQR13hpSyT+ZBtaahiZR4z0EAAADgQ01sQQAAAABlzc1BAQAAwAS6o0E=\",\"dtype\":\"float64\",\"order\":\"little\",\"shape\":[10]}},\"selected\":{\"id\":\"1187\"},\"selection_policy\":{\"id\":\"1203\"}},\"id\":\"1186\",\"type\":\"ColumnDataSource\"},{\"attributes\":{\"fill_alpha\":{\"value\":0.2},\"fill_color\":{\"value\":\"#8b8b8b\"},\"hatch_alpha\":{\"value\":0.2},\"hatch_color\":{\"value\":\"#8b8b8b\"},\"line_alpha\":{\"value\":0.2},\"line_color\":{\"value\":\"#8b8b8b\"},\"size\":{\"value\":5.477225575051661},\"x\":{\"field\":\"PC1\"},\"y\":{\"field\":\"PC2\"}},\"id\":\"1263\",\"type\":\"Scatter\"},{\"attributes\":{\"fill_color\":{\"value\":\"#30a2da\"},\"hatch_color\":{\"value\":\"#30a2da\"},\"line_color\":{\"value\":\"#30a2da\"},\"size\":{\"value\":5.477225575051661},\"x\":{\"field\":\"PC1\"},\"y\":{\"field\":\"PC2\"}},\"id\":\"1168\",\"type\":\"Scatter\"},{\"attributes\":{\"angle\":{\"value\":0.0},\"fill_alpha\":{\"value\":1.0},\"fill_color\":{\"value\":\"#30a2da\"},\"hatch_alpha\":{\"value\":1.0},\"hatch_color\":{\"value\":\"#30a2da\"},\"hatch_scale\":{\"value\":12.0},\"hatch_weight\":{\"value\":1.0},\"line_alpha\":{\"value\":1.0},\"line_cap\":{\"value\":\"butt\"},\"line_color\":{\"value\":\"#30a2da\"},\"line_dash\":{\"value\":[]},\"line_dash_offset\":{\"value\":0},\"line_join\":{\"value\":\"bevel\"},\"line_width\":{\"value\":1},\"marker\":{\"value\":\"circle\"},\"size\":{\"value\":5.477225575051661},\"x\":{\"field\":\"PC1\"},\"y\":{\"field\":\"PC2\"}},\"id\":\"1185\",\"type\":\"Scatter\"},{\"attributes\":{},\"id\":\"1259\",\"type\":\"Selection\"},{\"attributes\":{\"coordinates\":null,\"data_source\":{\"id\":\"1208\"},\"glyph\":{\"id\":\"1211\"},\"group\":null,\"hover_glyph\":null,\"muted_glyph\":{\"id\":\"1213\"},\"nonselection_glyph\":{\"id\":\"1212\"},\"selection_glyph\":{\"id\":\"1231\"},\"view\":{\"id\":\"1215\"}},\"id\":\"1214\",\"type\":\"GlyphRenderer\"},{\"attributes\":{\"fill_color\":{\"value\":\"#6d904f\"},\"hatch_color\":{\"value\":\"#6d904f\"},\"line_color\":{\"value\":\"#6d904f\"},\"size\":{\"value\":5.477225575051661},\"x\":{\"field\":\"PC1\"},\"y\":{\"field\":\"PC2\"}},\"id\":\"1235\",\"type\":\"Scatter\"},{\"attributes\":{\"source\":{\"id\":\"1186\"}},\"id\":\"1193\",\"type\":\"CDSView\"},{\"attributes\":{},\"id\":\"1209\",\"type\":\"Selection\"},{\"attributes\":{},\"id\":\"1139\",\"type\":\"BasicTicker\"},{\"attributes\":{},\"id\":\"1253\",\"type\":\"UnionRenderers\"},{\"attributes\":{\"label\":{\"value\":\"0\"},\"renderers\":[{\"id\":\"1171\"}]},\"id\":\"1184\",\"type\":\"LegendItem\"},{\"attributes\":{},\"id\":\"1227\",\"type\":\"UnionRenderers\"},{\"attributes\":{\"source\":{\"id\":\"1165\"}},\"id\":\"1172\",\"type\":\"CDSView\"},{\"attributes\":{},\"id\":\"1203\",\"type\":\"UnionRenderers\"},{\"attributes\":{},\"id\":\"1233\",\"type\":\"Selection\"},{\"attributes\":{\"below\":[{\"id\":\"1138\"}],\"center\":[{\"id\":\"1141\"},{\"id\":\"1145\"}],\"height\":300,\"left\":[{\"id\":\"1142\"}],\"margin\":[5,5,5,5],\"min_border_bottom\":10,\"min_border_left\":10,\"min_border_right\":10,\"min_border_top\":10,\"renderers\":[{\"id\":\"1171\"},{\"id\":\"1192\"},{\"id\":\"1214\"},{\"id\":\"1238\"},{\"id\":\"1264\"}],\"right\":[{\"id\":\"1183\"}],\"sizing_mode\":\"fixed\",\"title\":{\"id\":\"1130\"},\"toolbar\":{\"id\":\"1152\"},\"width\":700,\"x_range\":{\"id\":\"1122\"},\"x_scale\":{\"id\":\"1134\"},\"y_range\":{\"id\":\"1123\"},\"y_scale\":{\"id\":\"1136\"}},\"id\":\"1129\",\"subtype\":\"Figure\",\"type\":\"Plot\"},{\"attributes\":{\"coordinates\":null,\"group\":null,\"text_color\":\"black\",\"text_font_size\":\"12pt\"},\"id\":\"1130\",\"type\":\"Title\"},{\"attributes\":{\"coordinates\":null,\"data_source\":{\"id\":\"1232\"},\"glyph\":{\"id\":\"1235\"},\"group\":null,\"hover_glyph\":null,\"muted_glyph\":{\"id\":\"1237\"},\"nonselection_glyph\":{\"id\":\"1236\"},\"selection_glyph\":{\"id\":\"1257\"},\"view\":{\"id\":\"1239\"}},\"id\":\"1238\",\"type\":\"GlyphRenderer\"},{\"attributes\":{\"fill_color\":{\"value\":\"#e5ae38\"},\"hatch_color\":{\"value\":\"#e5ae38\"},\"line_color\":{\"value\":\"#e5ae38\"},\"size\":{\"value\":5.477225575051661},\"x\":{\"field\":\"PC1\"},\"y\":{\"field\":\"PC2\"}},\"id\":\"1211\",\"type\":\"Scatter\"},{\"attributes\":{},\"id\":\"1147\",\"type\":\"PanTool\"},{\"attributes\":{\"fill_color\":{\"value\":\"#fc4f30\"},\"hatch_color\":{\"value\":\"#fc4f30\"},\"line_color\":{\"value\":\"#fc4f30\"},\"size\":{\"value\":5.477225575051661},\"x\":{\"field\":\"PC1\"},\"y\":{\"field\":\"PC2\"}},\"id\":\"1189\",\"type\":\"Scatter\"},{\"attributes\":{\"axis\":{\"id\":\"1142\"},\"coordinates\":null,\"dimension\":1,\"grid_line_color\":null,\"group\":null,\"ticker\":null},\"id\":\"1145\",\"type\":\"Grid\"},{\"attributes\":{\"data\":{\"Algorithm\":[\"Dagger\",\"BEP-20 Token\",\"Dagger\",\"SPL Token\",\"VeChainThor Authority\",\"SPoS\",\"Leased POS\",\"ECC 256K1\",\"BEP-2\",\"SHA3\",\"Proof-of-Authority\"],\"Class\":[3,3,3,3,3,3,3,3,3,3,3],\"CoinName\":[\"DAPS Coin\",\"SafePal\",\"Amber\",\"MAPS\",\"VeChain\",\"V Systems\",\"Waves\",\"Acute Angle Cloud\",\"Binance Coin\",\"Nexus\",\"Poa Network\"],\"MaxSupply\":{\"__ndarray__\":\"AAAAPFNMMEIAAAAAAADwvwAAAAAAAPC/AAAAIF+gAkIAAGLMeTA0QgAAAAAAAPC/AAAAAAAA8L8AAAAAAADwvwAAAAAAAPC/AAAAAL6YkkEAAAAAAADwvw==\",\"dtype\":\"float64\",\"order\":\"little\",\"shape\":[11]},\"PC1\":{\"__ndarray__\":\"9ScK0oaT6z8KfeVor0PrP1bjem2m1+s/m02wgH8w6z9CiGUUdq/qP3N15MrxROs/WFzv+5hD6z/bAPUKzEPrP2LCvmecQ+s/jO0Xc3BD6z9YqOfAbMvrPw==\",\"dtype\":\"float64\",\"order\":\"little\",\"shape\":[11]},\"PC2\":{\"__ndarray__\":\"gU+/aRQ7/7/Dyx+XaUP+v25k0Tw6gf+/vjewk1Qt/r8hh2F5UXf9v0X/xY+JQv6/tg+bLHlD/r+dfVqxVUP+v+Ts/ct2Q/6/WPDln05D/r9vjDqWaG7/vw==\",\"dtype\":\"float64\",\"order\":\"little\",\"shape\":[11]},\"TotalCoinsMined\":{\"__ndarray__\":\"AADoEw8FLUIAAAAAZc29QQAAgBKiwc1BAAAAAGXNzUEAABmbGwU0QgAAgAKa1fZBAAAAOPjXmUEAAAAAZc3NQc3MzJciC6RB2savdh+GkUFvCcHnJCujQQ==\",\"dtype\":\"float64\",\"order\":\"little\",\"shape\":[11]}},\"selected\":{\"id\":\"1233\"},\"selection_policy\":{\"id\":\"1253\"}},\"id\":\"1232\",\"type\":\"ColumnDataSource\"},{\"attributes\":{\"axis_label\":\"PC1\",\"coordinates\":null,\"formatter\":{\"id\":\"1160\"},\"group\":null,\"major_label_policy\":{\"id\":\"1161\"},\"ticker\":{\"id\":\"1139\"}},\"id\":\"1138\",\"type\":\"LinearAxis\"},{\"attributes\":{\"source\":{\"id\":\"1208\"}},\"id\":\"1215\",\"type\":\"CDSView\"},{\"attributes\":{\"coordinates\":null,\"data_source\":{\"id\":\"1186\"},\"glyph\":{\"id\":\"1189\"},\"group\":null,\"hover_glyph\":null,\"muted_glyph\":{\"id\":\"1191\"},\"nonselection_glyph\":{\"id\":\"1190\"},\"selection_glyph\":{\"id\":\"1207\"},\"view\":{\"id\":\"1193\"}},\"id\":\"1192\",\"type\":\"GlyphRenderer\"},{\"attributes\":{},\"id\":\"1136\",\"type\":\"LinearScale\"},{\"attributes\":{\"data\":{\"Algorithm\":[\"TRC-10\"],\"Class\":[4],\"CoinName\":[\"BitTorrent\"],\"MaxSupply\":{\"__ndarray__\":\"AAAAAAAA8L8=\",\"dtype\":\"float64\",\"order\":\"little\",\"shape\":[1]},\"PC1\":{\"__ndarray__\":\"tAU8C3sPJ0A=\",\"dtype\":\"float64\",\"order\":\"little\",\"shape\":[1]},\"PC2\":{\"__ndarray__\":\"wkM8d9bwIEA=\",\"dtype\":\"float64\",\"order\":\"little\",\"shape\":[1]},\"TotalCoinsMined\":{\"__ndarray__\":\"AACfsjIjDEM=\",\"dtype\":\"float64\",\"order\":\"little\",\"shape\":[1]}},\"selected\":{\"id\":\"1259\"},\"selection_policy\":{\"id\":\"1281\"}},\"id\":\"1258\",\"type\":\"ColumnDataSource\"},{\"attributes\":{},\"id\":\"1146\",\"type\":\"SaveTool\"},{\"attributes\":{\"angle\":{\"value\":0.0},\"fill_alpha\":{\"value\":1.0},\"fill_color\":{\"value\":\"#8b8b8b\"},\"hatch_alpha\":{\"value\":1.0},\"hatch_color\":{\"value\":\"#8b8b8b\"},\"hatch_scale\":{\"value\":12.0},\"hatch_weight\":{\"value\":1.0},\"line_alpha\":{\"value\":1.0},\"line_cap\":{\"value\":\"butt\"},\"line_color\":{\"value\":\"#8b8b8b\"},\"line_dash\":{\"value\":[]},\"line_dash_offset\":{\"value\":0},\"line_join\":{\"value\":\"bevel\"},\"line_width\":{\"value\":1},\"marker\":{\"value\":\"circle\"},\"size\":{\"value\":5.477225575051661},\"x\":{\"field\":\"PC1\"},\"y\":{\"field\":\"PC2\"}},\"id\":\"1285\",\"type\":\"Scatter\"},{\"attributes\":{},\"id\":\"1143\",\"type\":\"BasicTicker\"},{\"attributes\":{\"axis\":{\"id\":\"1138\"},\"coordinates\":null,\"grid_line_color\":null,\"group\":null,\"ticker\":null},\"id\":\"1141\",\"type\":\"Grid\"},{\"attributes\":{\"fill_alpha\":{\"value\":0.2},\"fill_color\":{\"value\":\"#e5ae38\"},\"hatch_alpha\":{\"value\":0.2},\"hatch_color\":{\"value\":\"#e5ae38\"},\"line_alpha\":{\"value\":0.2},\"line_color\":{\"value\":\"#e5ae38\"},\"size\":{\"value\":5.477225575051661},\"x\":{\"field\":\"PC1\"},\"y\":{\"field\":\"PC2\"}},\"id\":\"1213\",\"type\":\"Scatter\"},{\"attributes\":{\"label\":{\"value\":\"1\"},\"renderers\":[{\"id\":\"1192\"}]},\"id\":\"1206\",\"type\":\"LegendItem\"},{\"attributes\":{},\"id\":\"1148\",\"type\":\"WheelZoomTool\"},{\"attributes\":{\"axis_label\":\"PC2\",\"coordinates\":null,\"formatter\":{\"id\":\"1163\"},\"group\":null,\"major_label_policy\":{\"id\":\"1164\"},\"ticker\":{\"id\":\"1143\"}},\"id\":\"1142\",\"type\":\"LinearAxis\"},{\"attributes\":{\"overlay\":{\"id\":\"1151\"}},\"id\":\"1149\",\"type\":\"BoxZoomTool\"},{\"attributes\":{},\"id\":\"1150\",\"type\":\"ResetTool\"},{\"attributes\":{\"margin\":[5,5,5,5],\"name\":\"HSpacer01910\",\"sizing_mode\":\"stretch_width\"},\"id\":\"1448\",\"type\":\"Spacer\"},{\"attributes\":{\"bottom_units\":\"screen\",\"coordinates\":null,\"fill_alpha\":0.5,\"fill_color\":\"lightgrey\",\"group\":null,\"left_units\":\"screen\",\"level\":\"overlay\",\"line_alpha\":1.0,\"line_color\":\"black\",\"line_dash\":[4,4],\"line_width\":2,\"right_units\":\"screen\",\"syncable\":false,\"top_units\":\"screen\"},\"id\":\"1151\",\"type\":\"BoxAnnotation\"},{\"attributes\":{},\"id\":\"1180\",\"type\":\"UnionRenderers\"},{\"attributes\":{\"tools\":[{\"id\":\"1124\"},{\"id\":\"1146\"},{\"id\":\"1147\"},{\"id\":\"1148\"},{\"id\":\"1149\"},{\"id\":\"1150\"}]},\"id\":\"1152\",\"type\":\"Toolbar\"},{\"attributes\":{\"data\":{\"Algorithm\":[\"Scrypt\",\"X11\",\"IMesh\",\"X16R\",\"SHA-256\",\"Ethash\",\"SHA-256\",\"Equihash\",\"SHA-256\",\"SHA-256\",\"Multiple\",\"Autolykos\",\"X16R\",\"Equihash\",\"CryptoNight-Lite\",\"Equihash\",\"Equihash\",\"IMesh\",\"Eaglesong\",\"Blake2B + SHA3\",\"Ethash\",\"Equihash\",\"SHA-256\",\"Ethash\",\"Equihash\",\"Scrypt\",\"RandomX\",\"Scrypt\",\"Scrypt-n\",\"Lyra2Z\",\"Ethash\",\"Dagger-Hashimoto\",\"Scrypt\",\"MTP\",\"Ethash\",\"Equihash\",\"Equihash\",\"Equihash\",\"EtcHash\",\"C31\",\"Equihash\",\"CryptoNight\",\"KECCAK\",\"SHA-256\",\"Scrypt\",\"SHA-256\",\"Scrypt\",\"Groestl\",\"Blake2b\",\"Scrypt\",\"Blake2b\",\"SHA-256\",\"CryptoNight\",\"Ethash\",\"Lyra2REv2\",\"Multiple\",\"NeoScrypt\",\"PoS\",\"X11GOST\",\"Scrypt\",\"Scrypt\",\"C31\",\"CryptoNight-Heavy\",\"SHA-256\",\"SHA-256\",\"Cryptonight Haven\",\"Multiple\",\"Scrypt\",\"Scrypt\",\"RandomX\",\"Ethash\"],\"Class\":[2,2,2,2,2,2,2,2,2,2,2,2,2,2,2,2,2,2,2,2,2,2,2,2,2,2,2,2,2,2,2,2,2,2,2,2,2,2,2,2,2,2,2,2,2,2,2,2,2,2,2,2,2,2,2,2,2,2,2,2,2,2,2,2,2,2,2,2,2,2,2],\"CoinName\":[\"CometCoin\",\"Pura\",\"Aidos Kuneen\",\"Ravencoin Classic\",\"Wibcoin\",\"EtherZero\",\"Arweave\",\"Bithereum\",\"Smart Bitcoin\",\"UnitedBitcoin\",\"Circuits of Value\",\"Ergo\",\"Genix\",\"Beam\",\"AEON\",\"TENT\",\"Pirate Chain\",\"Internet Node token\",\"Nervos Network\",\"Handshake\",\"Ethereum Name Service\",\"BitcoinZ\",\"eCash\",\"Expanse\",\"Bitcoin Private\",\"Einsteinium\",\"Quantum Resistant Ledger\",\"MegaCoin\",\"Aptcoin\",\"TecraCoin\",\"FOREXCOIN\",\"Ubiq\",\"Gulden\",\"Firo\",\"Super Zero\",\"Horizen\",\"Bitcoin Gold\",\"Komodo\",\"Ethereum Classic\",\"MimbleWimbleCoin\",\"ZCash\",\"Dero\",\"SmartCash\",\"Namecoin\",\"ViaCoin\",\"SysCoin\",\"Flo\",\"Groestlcoin\",\"Siacoin\",\"MonaCoin\",\"Nano\",\"Bitcoin SV\",\"ByteCoin\",\"Callisto Network\",\"Vertcoin\",\"Verge\",\"FeatherCoin\",\"Steem\",\"SibCoin\",\"Primas\",\"GoldCoin\",\"Grin\",\"Haven Protocol\",\"Bitcoin\",\"Bitcoin Cash\",\"BLOC.MONEY\",\"DigiByte\",\"Litecoin\",\"Dogecoin\",\"Monero\",\"Ethereum\"],\"MaxSupply\":{\"__ndarray__\":\"AAAAAAAAAAAAAAAAAADwvwAAAAAAAAAAAAAASMqOE0LsDROLtBptQgAAAAAAAPC/AAAAAKR4j0EAAAAAAAAAAAAAAAD0BnRBAAAAAPQGdEEAAAAAAADwvwAAAFKSTZdBAAAAALEIqUEAAAAABVSvQQAAAAAAAPC/AAAAANAMlEEAAAAAhNenQQAAAABlzc1BAAAAAAAA8L8AAACA+2XeQQAAAAAAAPC/AAAASMqOE0IAAFCKcRmzQgAAAACE15dBAAAAQF/QdUEAAAAAAADwvwAAAACxCJlBAAAAAPQGhEEAAAAA9AaEQQAAAAAAAPC/AAAAAAAA8L8AAAAAAADwvwAAAACxCNlBAAAAAJxodEEAAABAG1/DQQAAAAD0BnRBAAAAAPQGdEEAAAAAhNenQQAAAMANHqlBAAAAANASc0EAAAAA9AZ0QQAAAAAAAPC/AAAAIF+g8kEAAAAAAADwvwAAAAAAAPC/AAAAAOd2ykEAAAAA0BKjQQAAAACxCJlBAAAAAAAA8L8AAAAAAADwvwAAAIjUxJ9B5WGh//MGdEEAAMBoonlFQgAAABDiNvhBAAAAAPQGlEEAAAAGCtYOQgAAAAD0BrRBAAAAAAAA8L8AAAAA9AZ0QQAAAAAAAPC/AAAAEIc5kUEAAAAAAADwvwAAAAAAAPC/5WGh//MGdEHlYaH/8wZ0QQAAAACE14dBAAAASMqOE0IAAAAA9AaUQQAAAAAAAPC/AAAAAAAA8L8AAAAAAADwvw==\",\"dtype\":\"float64\",\"order\":\"little\",\"shape\":[71]},\"PC1\":{\"__ndarray__\":\"48R2bA5Q679voU+oRMfhv+Yr2FDrvu2/vxxZZuOE879oD4Igksv0v8xfBGO7LPC/GI1MwhI29L+Q8fI8K6jxv3QnkCIRNvS/eEWXBxE29L8ZqtB4spvzvzzFrUT7ZvO/8bdMhZOB879IQM1rNqjxv2tYB2P0ZvO/Uq3a1i6o8b/Cqu2ua1Lav+YHHug1f72/2wlwTrtl87989Kqahmfzv5cC0SNgO9C/XdlEO4Cr8b/VMQFFuE8AwFnBL7DALPC/EGY3XSyo8b9eSNEyDFDrv8RYIVRdgPO/ycftqhFQ67+xEx2N92bzv8Mwgon0ZvO/7L38kK0r8L/31RIi9Gbzv2ww/neaUOu/6DkBAfZm878WSCKxFzzQv7mCYT0sqPG/K/ndNCyo8b+7voCvbVLav9nc7usCZ/O/ZvrpqliA878eR049LKjxv+TVlbA01O2/hh4h1Exo87+dinsiEDb0vxp9KjMOUOu/SJ7DbjM29L8ncqriGlDrv+tAfpf7ZvO/m1Q7of5+879VObuRDVDrv3xZi7MDgPO/CAoRChE29L+z+9tvXQvuv5s8BQrGLfC/5Vs6Lvpm87/9W+VBNZ7zv0cFlhcLZ/O/6WOWeK8N4b9mEzfr9Wbzv7Ukym0NUOu/f/fcPhRQ6793EAxuV4Dzv5V+Q2r0ZvO/TH0XChE29L/4uQ8KETb0v/YK9Qn4ZvO/TRH6Xvue87+rlLb/FFDrv1NATF/HSuu/Ns0rE1mA879cdRrtuyzwvw==\",\"dtype\":\"float64\",\"order\":\"little\",\"shape\":[71]},\"PC2\":{\"__ndarray__\":\"ncD0PV+j3D+xEHriX9a9PzICuGKLeew/YkxuOon38z+pv/7Xwmz1P4A6Z4by9+w/CT/i2t989D+hRLkZL7zwP8vyEAPdfPQ/NyDZGN189D8+37pXHhL0P8uAPE6F0vM/4NSCkbby8z808etUPrzwP57VmNp60vM/BxLK9DO88D9X3xyvTdjTP5Cr3nsAcps/exYjiYjT8z/qf7TEUtPzP+VmExNCAqw/f4eQBBHB8D9Sh/B1HAYEQJHfSW389+w/tauITTC88D920wPWYqPcP1ouvNqq8PM/Fgw9g2mj3D/yR6Aqf9LzP9h+c7l60vM/5xepUqb57D+VVIwSe9LzPwrZsXTppNw/F5UTDH3S8z/A0r7f7gqsP/s/9jowvPA/HWHWQTC88D+qJJf1S9jTP7CAnaSR0vM/SiXHs6Pw8z8myAU7MLzwP2LyN/vKO+s/54f/DpjU8z/iUIvh23z0P8APgJpfo9w/tYyRWxF99D/jNG0zhqPcP5fLXD6G0vM/nCzzVsnx8z+dZT2fYKPcPytXz84C8fM/VlDZFt189D8pZVnlTJTrP/ah3Aj0+uw/nZij8IPS8z/VIRalDxb0P4peVpqf0vM/3Zz4CLhG0j/MfK8NfdLzPyRvStlgo9w/6vu4hHCj3D9ky/raovDzP0htXdR60vM/zxrUFt189D++X9oW3Xz0PwbLShaA0vM/AZ3vBgoX9D/lxHikc6PcP+mVOWHlq9w/oWqFmKTw8z8E4V+n8ffsPw==\",\"dtype\":\"float64\",\"order\":\"little\",\"shape\":[71]},\"TotalCoinsMined\":{\"__ndarray__\":\"AAAAAPyiKkHo7K2BQnSmQQAAAACE13dBZeIW1IWPA0LsDROLtBptQmZm5qNnPKtBAAAAmJPNjkEAAAAAh3R9QRBNWzyFsahAAAAAAPQGdEEmCsEWVH3aQQAAAKCwaopBAAAAoMkzmkEdjcF2oJOQQQJ6m8tbL3FBAAAAwEV5gkFOReqCVfOmQehu3NLtwcZBuXV2dsUUIULWjxHeFYC9QQAAAACE15dBwzig/b/jBEJANYFrw1ixQlyPwv/hi4BBJHujMb8iTUHx//+6HomqQRkCUjMNMJJBQN7x+icQg0EAAAAAKLFiQaISrrYSehlBAAAAOE0lKUIY8K0yysKGQd/6pc7tGcBBRIaXMolRaUEAAADI6uizQQAAADAEuWdBZi/GeZguckFmuPOX4eyfQUUROYA04J9BE9s4ICWtZEG1TVLBktVnQQAAAAAwjHFBs8n1rTMA5UEAAACwAVZxQYIGagn0GXZBIvDiw9A3w0EYBkoS2KGgQaavjPMZHJNBAAAgaRDBJ0Kw5eLpp4GUQQAAAIjUxJ9Bm81OtnEwckE6jDDijnlFQshOatOoludBwXeIzl2hjkHklTaHJr4OQjH1Azwpvq5BokVWItSLt0FMvFfhu99yQQAAAACE15dBA/H/51UBhUEV2Y7KskGUQR8616S1DmxBAAAA0KcrckHTrlg2azFyQWZmZpU/tHRBnrzCSfuhDEIdE+/ApMiQQYm0bxg2WD9CaA9pYr9JcUHb+X6l1tecQQ==\",\"dtype\":\"float64\",\"order\":\"little\",\"shape\":[71]}},\"selected\":{\"id\":\"1209\"},\"selection_policy\":{\"id\":\"1227\"}},\"id\":\"1208\",\"type\":\"ColumnDataSource\"},{\"attributes\":{\"fill_alpha\":{\"value\":0.2},\"fill_color\":{\"value\":\"#fc4f30\"},\"hatch_alpha\":{\"value\":0.2},\"hatch_color\":{\"value\":\"#fc4f30\"},\"line_alpha\":{\"value\":0.2},\"line_color\":{\"value\":\"#fc4f30\"},\"size\":{\"value\":5.477225575051661},\"x\":{\"field\":\"PC1\"},\"y\":{\"field\":\"PC2\"}},\"id\":\"1191\",\"type\":\"Scatter\"},{\"attributes\":{},\"id\":\"1187\",\"type\":\"Selection\"},{\"attributes\":{\"angle\":{\"value\":0.0},\"fill_alpha\":{\"value\":1.0},\"fill_color\":{\"value\":\"#6d904f\"},\"hatch_alpha\":{\"value\":1.0},\"hatch_color\":{\"value\":\"#6d904f\"},\"hatch_scale\":{\"value\":12.0},\"hatch_weight\":{\"value\":1.0},\"line_alpha\":{\"value\":1.0},\"line_cap\":{\"value\":\"butt\"},\"line_color\":{\"value\":\"#6d904f\"},\"line_dash\":{\"value\":[]},\"line_dash_offset\":{\"value\":0},\"line_join\":{\"value\":\"bevel\"},\"line_width\":{\"value\":1},\"marker\":{\"value\":\"circle\"},\"size\":{\"value\":5.477225575051661},\"x\":{\"field\":\"PC1\"},\"y\":{\"field\":\"PC2\"}},\"id\":\"1257\",\"type\":\"Scatter\"},{\"attributes\":{},\"id\":\"1161\",\"type\":\"AllLabels\"},{\"attributes\":{\"fill_alpha\":{\"value\":0.1},\"fill_color\":{\"value\":\"#fc4f30\"},\"hatch_alpha\":{\"value\":0.1},\"hatch_color\":{\"value\":\"#fc4f30\"},\"line_alpha\":{\"value\":0.1},\"line_color\":{\"value\":\"#fc4f30\"},\"size\":{\"value\":5.477225575051661},\"x\":{\"field\":\"PC1\"},\"y\":{\"field\":\"PC2\"}},\"id\":\"1190\",\"type\":\"Scatter\"},{\"attributes\":{},\"id\":\"1160\",\"type\":\"BasicTickFormatter\"},{\"attributes\":{\"fill_color\":{\"value\":\"#8b8b8b\"},\"hatch_color\":{\"value\":\"#8b8b8b\"},\"line_color\":{\"value\":\"#8b8b8b\"},\"size\":{\"value\":5.477225575051661},\"x\":{\"field\":\"PC1\"},\"y\":{\"field\":\"PC2\"}},\"id\":\"1261\",\"type\":\"Scatter\"},{\"attributes\":{\"fill_alpha\":{\"value\":0.1},\"fill_color\":{\"value\":\"#8b8b8b\"},\"hatch_alpha\":{\"value\":0.1},\"hatch_color\":{\"value\":\"#8b8b8b\"},\"line_alpha\":{\"value\":0.1},\"line_color\":{\"value\":\"#8b8b8b\"},\"size\":{\"value\":5.477225575051661},\"x\":{\"field\":\"PC1\"},\"y\":{\"field\":\"PC2\"}},\"id\":\"1262\",\"type\":\"Scatter\"},{\"attributes\":{\"children\":[{\"id\":\"1121\"},{\"id\":\"1129\"},{\"id\":\"1448\"}],\"margin\":[0,0,0,0],\"name\":\"Row01905\",\"tags\":[\"embedded\"]},\"id\":\"1120\",\"type\":\"Row\"}],\"root_ids\":[\"1120\"]},\"title\":\"Bokeh Application\",\"version\":\"2.4.1\"}};\n",
       "    var render_items = [{\"docid\":\"f077d662-7a7a-48f0-872a-46e294793fb3\",\"root_ids\":[\"1120\"],\"roots\":{\"1120\":\"38c6bd29-8c13-4d09-b3f2-cd572303fe52\"}}];\n",
       "    root.Bokeh.embed.embed_items_notebook(docs_json, render_items);\n",
       "  }\n",
       "  if (root.Bokeh !== undefined && root.Bokeh.Panel !== undefined) {\n",
       "    embed_document(root);\n",
       "  } else {\n",
       "    var attempts = 0;\n",
       "    var timer = setInterval(function(root) {\n",
       "      if (root.Bokeh !== undefined && root.Bokeh.Panel !== undefined) {\n",
       "        clearInterval(timer);\n",
       "        embed_document(root);\n",
       "      } else if (document.readyState == \"complete\") {\n",
       "        attempts++;\n",
       "        if (attempts > 200) {\n",
       "          clearInterval(timer);\n",
       "          console.log(\"Bokeh: ERROR: Unable to run BokehJS code because BokehJS library is missing\");\n",
       "        }\n",
       "      }\n",
       "    }, 25, root)\n",
       "  }\n",
       "})(window);</script>"
      ],
      "text/plain": [
       ":NdOverlay   [Class]\n",
       "   :Scatter   [PC1]   (PC2,CoinName,Algorithm,MaxSupply,TotalCoinsMined)"
      ]
     },
     "execution_count": 63,
     "metadata": {
      "application/vnd.holoviews_exec.v0+json": {
       "id": "1120"
      }
     },
     "output_type": "execute_result"
    }
   ],
   "source": [
    "# Plot the PCA clusters\n",
    "clustered_df.hvplot.scatter(x='PC1', y='PC2', by=\"Class\", hover_cols=['CoinName', 'Algorithm', 'MaxSupply', 'TotalCoinsMined'])"
   ]
  },
  {
   "cell_type": "code",
   "execution_count": 64,
   "metadata": {},
   "outputs": [
    {
     "data": {},
     "metadata": {},
     "output_type": "display_data"
    },
    {
     "data": {
      "application/vnd.holoviews_exec.v0+json": "",
      "text/html": [
       "<div id='1540'>\n",
       "\n",
       "\n",
       "\n",
       "\n",
       "\n",
       "  <div class=\"bk-root\" id=\"e14c3773-7834-4f55-a10e-ae376fefdf82\" data-root-id=\"1540\"></div>\n",
       "</div>\n",
       "<script type=\"application/javascript\">(function(root) {\n",
       "  function embed_document(root) {\n",
       "    var docs_json = {\"9d026051-5f6e-4259-be83-cab03b9039c2\":{\"defs\":[{\"extends\":null,\"module\":null,\"name\":\"ReactiveHTML1\",\"overrides\":[],\"properties\":[]},{\"extends\":null,\"module\":null,\"name\":\"FlexBox1\",\"overrides\":[],\"properties\":[{\"default\":\"flex-start\",\"kind\":null,\"name\":\"align_content\"},{\"default\":\"flex-start\",\"kind\":null,\"name\":\"align_items\"},{\"default\":\"row\",\"kind\":null,\"name\":\"flex_direction\"},{\"default\":\"wrap\",\"kind\":null,\"name\":\"flex_wrap\"},{\"default\":\"flex-start\",\"kind\":null,\"name\":\"justify_content\"}]},{\"extends\":null,\"module\":null,\"name\":\"GridStack1\",\"overrides\":[],\"properties\":[{\"default\":\"warn\",\"kind\":null,\"name\":\"mode\"},{\"default\":null,\"kind\":null,\"name\":\"ncols\"},{\"default\":null,\"kind\":null,\"name\":\"nrows\"},{\"default\":true,\"kind\":null,\"name\":\"allow_resize\"},{\"default\":true,\"kind\":null,\"name\":\"allow_drag\"},{\"default\":[],\"kind\":null,\"name\":\"state\"}]},{\"extends\":null,\"module\":null,\"name\":\"click1\",\"overrides\":[],\"properties\":[{\"default\":\"\",\"kind\":null,\"name\":\"terminal_output\"},{\"default\":\"\",\"kind\":null,\"name\":\"debug_name\"},{\"default\":0,\"kind\":null,\"name\":\"clears\"}]},{\"extends\":null,\"module\":null,\"name\":\"TemplateActions1\",\"overrides\":[],\"properties\":[{\"default\":0,\"kind\":null,\"name\":\"open_modal\"},{\"default\":0,\"kind\":null,\"name\":\"close_modal\"}]},{\"extends\":null,\"module\":null,\"name\":\"MaterialTemplateActions1\",\"overrides\":[],\"properties\":[{\"default\":0,\"kind\":null,\"name\":\"open_modal\"},{\"default\":0,\"kind\":null,\"name\":\"close_modal\"}]}],\"roots\":{\"references\":[{\"attributes\":{\"overlay\":{\"id\":\"1571\"}},\"id\":\"1569\",\"type\":\"BoxZoomTool\"},{\"attributes\":{},\"id\":\"1623\",\"type\":\"UnionRenderers\"},{\"attributes\":{\"bottom_units\":\"screen\",\"coordinates\":null,\"fill_alpha\":0.5,\"fill_color\":\"lightgrey\",\"group\":null,\"left_units\":\"screen\",\"level\":\"overlay\",\"line_alpha\":1.0,\"line_color\":\"black\",\"line_dash\":[4,4],\"line_width\":2,\"right_units\":\"screen\",\"syncable\":false,\"top_units\":\"screen\"},\"id\":\"1571\",\"type\":\"BoxAnnotation\"},{\"attributes\":{},\"id\":\"1586\",\"type\":\"Selection\"},{\"attributes\":{\"source\":{\"id\":\"1585\"}},\"id\":\"1592\",\"type\":\"CDSView\"},{\"attributes\":{\"margin\":[5,5,5,5],\"name\":\"HSpacer02934\",\"sizing_mode\":\"stretch_width\"},\"id\":\"1868\",\"type\":\"Spacer\"},{\"attributes\":{\"angle\":{\"value\":0.0},\"fill_alpha\":{\"value\":1.0},\"fill_color\":{\"value\":\"#e5ae38\"},\"hatch_alpha\":{\"value\":1.0},\"hatch_color\":{\"value\":\"#e5ae38\"},\"hatch_scale\":{\"value\":12.0},\"hatch_weight\":{\"value\":1.0},\"line_alpha\":{\"value\":1.0},\"line_cap\":{\"value\":\"butt\"},\"line_color\":{\"value\":\"#e5ae38\"},\"line_dash\":{\"value\":[]},\"line_dash_offset\":{\"value\":0},\"line_join\":{\"value\":\"bevel\"},\"line_width\":{\"value\":1},\"marker\":{\"value\":\"circle\"},\"size\":{\"value\":5.477225575051661},\"x\":{\"field\":\"TotalCoinsMined\"},\"y\":{\"field\":\"MaxSupply\"}},\"id\":\"1651\",\"type\":\"Scatter\"},{\"attributes\":{\"fill_alpha\":{\"value\":0.2},\"fill_color\":{\"value\":\"#8b8b8b\"},\"hatch_alpha\":{\"value\":0.2},\"hatch_color\":{\"value\":\"#8b8b8b\"},\"line_alpha\":{\"value\":0.2},\"line_color\":{\"value\":\"#8b8b8b\"},\"size\":{\"value\":5.477225575051661},\"x\":{\"field\":\"TotalCoinsMined\"},\"y\":{\"field\":\"MaxSupply\"}},\"id\":\"1683\",\"type\":\"Scatter\"},{\"attributes\":{\"fill_alpha\":{\"value\":0.2},\"fill_color\":{\"value\":\"#6d904f\"},\"hatch_alpha\":{\"value\":0.2},\"hatch_color\":{\"value\":\"#6d904f\"},\"line_alpha\":{\"value\":0.2},\"line_color\":{\"value\":\"#6d904f\"},\"size\":{\"value\":5.477225575051661},\"x\":{\"field\":\"TotalCoinsMined\"},\"y\":{\"field\":\"MaxSupply\"}},\"id\":\"1657\",\"type\":\"Scatter\"},{\"attributes\":{\"end\":1.1,\"reset_end\":1.1,\"reset_start\":-0.1,\"start\":-0.1,\"tags\":[[[\"MaxSupply\",\"MaxSupply\",null]]]},\"id\":\"1543\",\"type\":\"Range1d\"},{\"attributes\":{\"end\":1.042857142857143,\"reset_end\":1.042857142857143,\"reset_start\":-0.04285714285714286,\"start\":-0.04285714285714286,\"tags\":[[[\"TotalCoinsMined\",\"TotalCoinsMined\",null]]]},\"id\":\"1542\",\"type\":\"Range1d\"},{\"attributes\":{\"fill_color\":{\"value\":\"#8b8b8b\"},\"hatch_color\":{\"value\":\"#8b8b8b\"},\"line_color\":{\"value\":\"#8b8b8b\"},\"size\":{\"value\":5.477225575051661},\"x\":{\"field\":\"TotalCoinsMined\"},\"y\":{\"field\":\"MaxSupply\"}},\"id\":\"1681\",\"type\":\"Scatter\"},{\"attributes\":{\"label\":{\"value\":\"3\"},\"renderers\":[{\"id\":\"1658\"}]},\"id\":\"1676\",\"type\":\"LegendItem\"},{\"attributes\":{},\"id\":\"1581\",\"type\":\"AllLabels\"},{\"attributes\":{},\"id\":\"1554\",\"type\":\"LinearScale\"},{\"attributes\":{},\"id\":\"1701\",\"type\":\"UnionRenderers\"},{\"attributes\":{\"margin\":[5,5,5,5],\"name\":\"HSpacer02933\",\"sizing_mode\":\"stretch_width\"},\"id\":\"1541\",\"type\":\"Spacer\"},{\"attributes\":{\"label\":{\"value\":\"4\"},\"renderers\":[{\"id\":\"1684\"}]},\"id\":\"1704\",\"type\":\"LegendItem\"},{\"attributes\":{\"angle\":{\"value\":0.0},\"fill_alpha\":{\"value\":1.0},\"fill_color\":{\"value\":\"#fc4f30\"},\"hatch_alpha\":{\"value\":1.0},\"hatch_color\":{\"value\":\"#fc4f30\"},\"hatch_scale\":{\"value\":12.0},\"hatch_weight\":{\"value\":1.0},\"line_alpha\":{\"value\":1.0},\"line_cap\":{\"value\":\"butt\"},\"line_color\":{\"value\":\"#fc4f30\"},\"line_dash\":{\"value\":[]},\"line_dash_offset\":{\"value\":0},\"line_join\":{\"value\":\"bevel\"},\"line_width\":{\"value\":1},\"marker\":{\"value\":\"circle\"},\"size\":{\"value\":5.477225575051661},\"x\":{\"field\":\"TotalCoinsMined\"},\"y\":{\"field\":\"MaxSupply\"}},\"id\":\"1627\",\"type\":\"Scatter\"},{\"attributes\":{\"coordinates\":null,\"data_source\":{\"id\":\"1678\"},\"glyph\":{\"id\":\"1681\"},\"group\":null,\"hover_glyph\":null,\"muted_glyph\":{\"id\":\"1683\"},\"nonselection_glyph\":{\"id\":\"1682\"},\"selection_glyph\":{\"id\":\"1705\"},\"view\":{\"id\":\"1685\"}},\"id\":\"1684\",\"type\":\"GlyphRenderer\"},{\"attributes\":{\"fill_alpha\":{\"value\":0.1},\"fill_color\":{\"value\":\"#8b8b8b\"},\"hatch_alpha\":{\"value\":0.1},\"hatch_color\":{\"value\":\"#8b8b8b\"},\"line_alpha\":{\"value\":0.1},\"line_color\":{\"value\":\"#8b8b8b\"},\"size\":{\"value\":5.477225575051661},\"x\":{\"field\":\"TotalCoinsMined\"},\"y\":{\"field\":\"MaxSupply\"}},\"id\":\"1682\",\"type\":\"Scatter\"},{\"attributes\":{},\"id\":\"1583\",\"type\":\"BasicTickFormatter\"},{\"attributes\":{\"fill_alpha\":{\"value\":0.2},\"fill_color\":{\"value\":\"#e5ae38\"},\"hatch_alpha\":{\"value\":0.2},\"hatch_color\":{\"value\":\"#e5ae38\"},\"line_alpha\":{\"value\":0.2},\"line_color\":{\"value\":\"#e5ae38\"},\"size\":{\"value\":5.477225575051661},\"x\":{\"field\":\"TotalCoinsMined\"},\"y\":{\"field\":\"MaxSupply\"}},\"id\":\"1633\",\"type\":\"Scatter\"},{\"attributes\":{\"children\":[{\"id\":\"1541\"},{\"id\":\"1549\"},{\"id\":\"1868\"}],\"margin\":[0,0,0,0],\"name\":\"Row02929\",\"tags\":[\"embedded\"]},\"id\":\"1540\",\"type\":\"Row\"},{\"attributes\":{},\"id\":\"1580\",\"type\":\"BasicTickFormatter\"},{\"attributes\":{\"data\":{\"Class\":[4],\"CoinName\":[\"BitTorrent\"],\"MaxSupply\":{\"__ndarray__\":\"AAAAAAAAAAA=\",\"dtype\":\"float64\",\"order\":\"little\",\"shape\":[1]},\"TotalCoinsMined\":{\"__ndarray__\":\"AAAAAAAA8D8=\",\"dtype\":\"float64\",\"order\":\"little\",\"shape\":[1]}},\"selected\":{\"id\":\"1679\"},\"selection_policy\":{\"id\":\"1701\"}},\"id\":\"1678\",\"type\":\"ColumnDataSource\"},{\"attributes\":{\"source\":{\"id\":\"1678\"}},\"id\":\"1685\",\"type\":\"CDSView\"},{\"attributes\":{\"fill_alpha\":{\"value\":0.1},\"fill_color\":{\"value\":\"#30a2da\"},\"hatch_alpha\":{\"value\":0.1},\"hatch_color\":{\"value\":\"#30a2da\"},\"line_alpha\":{\"value\":0.1},\"line_color\":{\"value\":\"#30a2da\"},\"size\":{\"value\":5.477225575051661},\"x\":{\"field\":\"TotalCoinsMined\"},\"y\":{\"field\":\"MaxSupply\"}},\"id\":\"1589\",\"type\":\"Scatter\"},{\"attributes\":{},\"id\":\"1679\",\"type\":\"Selection\"},{\"attributes\":{\"data\":{\"Class\":[0,0,0,0,0,0,0,0,0,0,0,0,0,0,0,0,0,0,0,0,0,0,0,0,0,0,0,0,0,0,0,0,0,0,0,0,0,0,0,0,0,0,0,0,0,0,0],\"CoinName\":[\"42 Coin\",\"NuShares\",\"Triangles Coin\",\"OpenChat\",\"VEIL\",\"XDNA\",\"TokenPay\",\"QuarkCoin\",\"BeforeCoinMarketCap\",\"VeriCoin\",\"Emercoin\",\"Stratis\",\"Auroracoin\",\"Validity\",\"Anchor Protocol\",\"Beldex\",\"Signa\",\"Canada eCoin\",\"BlockNet\",\"USX Quantum\",\"TorCoin\",\"SuperCoin\",\"StakeNet\",\"QTUM\",\"IOCoin\",\"WhiteCoin\",\"Private Instant Verified Transaction\",\"Decred\",\"Zano\",\"DigitalNote\",\"Zelcash\",\"HyperCash\",\"ICON Project\",\"SaluS\",\"SafeExchangeCoin\",\"Aion\",\"Nxt\",\"Ontology\",\"PotCoin\",\"Bitcoin Diamond\",\"BlackCoin\",\"Cardano\",\"Reddcoin\",\"CloakCoin\",\"Dash\",\"NavCoin\",\"NovaCoin\"],\"MaxSupply\":{\"__ndarray__\":\"IEpBBNQCgj2zPtjEoM4qPbM+2MSgzio9AAAAAAAAAAD3oqiglfXtPrM+2MSgzio9VHZkdw75sz4AAAAAAAAAAAAAAAAAAAAAAAAAAAAAAAAAAAAAAAAAAAAAAAAAAAAAAAAAAAAAAAD7RB5JzcKcPgAAAAAAAAAAAv4ATELlPj8AAAAAAAAAADqNvn2bcdU+AAAAAAAAAAAAAAAAAAAAALM+2MSgzio9AAAAAAAAAAAAAAAAAAAAAMUF/yoFidU+YAtvYH2TsT7xqecEUvcIPwAAAAAAAAAADj0drvfGsD4AAAAAAAAAAAAAAAAAAAAA5FGQirX45D7FwA+k98bQPgAAAAAAAAAAAAAAAAAAAAAAAAAAAAAAAAAAAAAAAAAA8annBFL3CD8AAAAAAAAAAN7cuYm1+PQ+5FGQirX45D4L+lZtDvnTPkQrKavljWE/AAAAAAAAAAAAAAAAAAAAAGLk4gjxMq4+AAAAAAAAAAAAAAAAAAAAAA==\",\"dtype\":\"float64\",\"order\":\"little\",\"shape\":[47]},\"TotalCoinsMined\":{\"__ndarray__\":\"AAAAAAAAAABA/UAFNC3aPohdXe3kmOo9Yy1awlnysD6yxKerCDSAPoDRK3PHJ0M+BH9YRi27Vz5t1lErV/iSPtFK1hZBHuI+wFRP29YIYz48TZvlxhhqPgShYM/Tn4I+c+UkiAcUez6wmLwjReYzPmMtWsJZ8rA+WSO8Hai6tz4fvjtSQijCPnfb3PVVGXs+5Ms0KGf0Qj5mns8f2wfGPh6HH9IQsUU+u3qGzFhgbT7tGYzwNbWBPj8g2PjJP3w+04Vcz6lDVT7lnHVhTEOwPpCQU5xpw3I+rCbEf0l/Tj5Wfzx4W6pMPuwJl/kcJOE+MNPUJn/TnT7TZurJM3FoPlEukW0pla8+0J4dqR/xET6JCMXDRDLCPn3Aa6g7JaE+D5G0DwPusD5jLVrCWfKwPnYVwOEt244+bR6oJFCViz46hx5/s6VwPk50cZ2LrgE/u7/dwnFpAD8JOGhNuGI5Pq09hsrgVEc+cFA43Mzzcz6CC4ftdR0wPg==\",\"dtype\":\"float64\",\"order\":\"little\",\"shape\":[47]}},\"selected\":{\"id\":\"1586\"},\"selection_policy\":{\"id\":\"1600\"}},\"id\":\"1585\",\"type\":\"ColumnDataSource\"},{\"attributes\":{\"coordinates\":null,\"data_source\":{\"id\":\"1628\"},\"glyph\":{\"id\":\"1631\"},\"group\":null,\"hover_glyph\":null,\"muted_glyph\":{\"id\":\"1633\"},\"nonselection_glyph\":{\"id\":\"1632\"},\"selection_glyph\":{\"id\":\"1651\"},\"view\":{\"id\":\"1635\"}},\"id\":\"1634\",\"type\":\"GlyphRenderer\"},{\"attributes\":{\"fill_color\":{\"value\":\"#30a2da\"},\"hatch_color\":{\"value\":\"#30a2da\"},\"line_color\":{\"value\":\"#30a2da\"},\"size\":{\"value\":5.477225575051661},\"x\":{\"field\":\"TotalCoinsMined\"},\"y\":{\"field\":\"MaxSupply\"}},\"id\":\"1588\",\"type\":\"Scatter\"},{\"attributes\":{\"fill_color\":{\"value\":\"#6d904f\"},\"hatch_color\":{\"value\":\"#6d904f\"},\"line_color\":{\"value\":\"#6d904f\"},\"size\":{\"value\":5.477225575051661},\"x\":{\"field\":\"TotalCoinsMined\"},\"y\":{\"field\":\"MaxSupply\"}},\"id\":\"1655\",\"type\":\"Scatter\"},{\"attributes\":{},\"id\":\"1584\",\"type\":\"AllLabels\"},{\"attributes\":{\"angle\":{\"value\":0.0},\"fill_alpha\":{\"value\":1.0},\"fill_color\":{\"value\":\"#30a2da\"},\"hatch_alpha\":{\"value\":1.0},\"hatch_color\":{\"value\":\"#30a2da\"},\"hatch_scale\":{\"value\":12.0},\"hatch_weight\":{\"value\":1.0},\"line_alpha\":{\"value\":1.0},\"line_cap\":{\"value\":\"butt\"},\"line_color\":{\"value\":\"#30a2da\"},\"line_dash\":{\"value\":[]},\"line_dash_offset\":{\"value\":0},\"line_join\":{\"value\":\"bevel\"},\"line_width\":{\"value\":1},\"marker\":{\"value\":\"circle\"},\"size\":{\"value\":5.477225575051661},\"x\":{\"field\":\"TotalCoinsMined\"},\"y\":{\"field\":\"MaxSupply\"}},\"id\":\"1605\",\"type\":\"Scatter\"},{\"attributes\":{},\"id\":\"1673\",\"type\":\"UnionRenderers\"},{\"attributes\":{\"click_policy\":\"mute\",\"coordinates\":null,\"group\":null,\"items\":[{\"id\":\"1604\"},{\"id\":\"1626\"},{\"id\":\"1650\"},{\"id\":\"1676\"},{\"id\":\"1704\"}],\"location\":[0,0],\"title\":\"Class\"},\"id\":\"1603\",\"type\":\"Legend\"},{\"attributes\":{\"angle\":{\"value\":0.0},\"fill_alpha\":{\"value\":1.0},\"fill_color\":{\"value\":\"#6d904f\"},\"hatch_alpha\":{\"value\":1.0},\"hatch_color\":{\"value\":\"#6d904f\"},\"hatch_scale\":{\"value\":12.0},\"hatch_weight\":{\"value\":1.0},\"line_alpha\":{\"value\":1.0},\"line_cap\":{\"value\":\"butt\"},\"line_color\":{\"value\":\"#6d904f\"},\"line_dash\":{\"value\":[]},\"line_dash_offset\":{\"value\":0},\"line_join\":{\"value\":\"bevel\"},\"line_width\":{\"value\":1},\"marker\":{\"value\":\"circle\"},\"size\":{\"value\":5.477225575051661},\"x\":{\"field\":\"TotalCoinsMined\"},\"y\":{\"field\":\"MaxSupply\"}},\"id\":\"1677\",\"type\":\"Scatter\"},{\"attributes\":{\"coordinates\":null,\"data_source\":{\"id\":\"1652\"},\"glyph\":{\"id\":\"1655\"},\"group\":null,\"hover_glyph\":null,\"muted_glyph\":{\"id\":\"1657\"},\"nonselection_glyph\":{\"id\":\"1656\"},\"selection_glyph\":{\"id\":\"1677\"},\"view\":{\"id\":\"1659\"}},\"id\":\"1658\",\"type\":\"GlyphRenderer\"},{\"attributes\":{\"label\":{\"value\":\"0\"},\"renderers\":[{\"id\":\"1591\"}]},\"id\":\"1604\",\"type\":\"LegendItem\"},{\"attributes\":{\"fill_alpha\":{\"value\":0.1},\"fill_color\":{\"value\":\"#6d904f\"},\"hatch_alpha\":{\"value\":0.1},\"hatch_color\":{\"value\":\"#6d904f\"},\"line_alpha\":{\"value\":0.1},\"line_color\":{\"value\":\"#6d904f\"},\"size\":{\"value\":5.477225575051661},\"x\":{\"field\":\"TotalCoinsMined\"},\"y\":{\"field\":\"MaxSupply\"}},\"id\":\"1656\",\"type\":\"Scatter\"},{\"attributes\":{\"coordinates\":null,\"data_source\":{\"id\":\"1606\"},\"glyph\":{\"id\":\"1609\"},\"group\":null,\"hover_glyph\":null,\"muted_glyph\":{\"id\":\"1611\"},\"nonselection_glyph\":{\"id\":\"1610\"},\"selection_glyph\":{\"id\":\"1627\"},\"view\":{\"id\":\"1613\"}},\"id\":\"1612\",\"type\":\"GlyphRenderer\"},{\"attributes\":{\"fill_color\":{\"value\":\"#e5ae38\"},\"hatch_color\":{\"value\":\"#e5ae38\"},\"line_color\":{\"value\":\"#e5ae38\"},\"size\":{\"value\":5.477225575051661},\"x\":{\"field\":\"TotalCoinsMined\"},\"y\":{\"field\":\"MaxSupply\"}},\"id\":\"1631\",\"type\":\"Scatter\"},{\"attributes\":{\"callback\":null,\"renderers\":[{\"id\":\"1591\"},{\"id\":\"1612\"},{\"id\":\"1634\"},{\"id\":\"1658\"},{\"id\":\"1684\"}],\"tags\":[\"hv_created\"],\"tooltips\":[[\"Class\",\"@{Class}\"],[\"TotalCoinsMined\",\"@{TotalCoinsMined}\"],[\"MaxSupply\",\"@{MaxSupply}\"],[\"CoinName\",\"@{CoinName}\"]]},\"id\":\"1544\",\"type\":\"HoverTool\"},{\"attributes\":{\"label\":{\"value\":\"1\"},\"renderers\":[{\"id\":\"1612\"}]},\"id\":\"1626\",\"type\":\"LegendItem\"},{\"attributes\":{},\"id\":\"1647\",\"type\":\"UnionRenderers\"},{\"attributes\":{\"source\":{\"id\":\"1652\"}},\"id\":\"1659\",\"type\":\"CDSView\"},{\"attributes\":{},\"id\":\"1559\",\"type\":\"BasicTicker\"},{\"attributes\":{\"data\":{\"Class\":[3,3,3,3,3,3,3,3,3,3,3],\"CoinName\":[\"DAPS Coin\",\"SafePal\",\"Amber\",\"MAPS\",\"VeChain\",\"V Systems\",\"Waves\",\"Acute Angle Cloud\",\"Binance Coin\",\"Nexus\",\"Poa Network\"],\"MaxSupply\":{\"__ndarray__\":\"y8bptIFOaz8AAAAAAAAAAAAAAAAAAAAAmvKohSY1Pz8IhLZ0wOlwPwAAAAAAAAAAAAAAAAAAAAAAAAAAAAAAAAAAAAAAAAAAlhYqMV4ozz4AAAAAAAAAAA==\",\"dtype\":\"float64\",\"order\":\"little\",\"shape\":[11]},\"TotalCoinsMined\":{\"__ndarray__\":\"bohmxG6AED8mMWm2WfKgPkap5qKp67A+Yy1awlnysD5DNuEWpcQWP7/lB+0K+Nk+XTGUgyhkfT5jLVrCWfKwPmzPkoN/y4Y+ivTqH/Htcz7+BL9hwsyFPg==\",\"dtype\":\"float64\",\"order\":\"little\",\"shape\":[11]}},\"selected\":{\"id\":\"1653\"},\"selection_policy\":{\"id\":\"1673\"}},\"id\":\"1652\",\"type\":\"ColumnDataSource\"},{\"attributes\":{},\"id\":\"1600\",\"type\":\"UnionRenderers\"},{\"attributes\":{\"coordinates\":null,\"data_source\":{\"id\":\"1585\"},\"glyph\":{\"id\":\"1588\"},\"group\":null,\"hover_glyph\":null,\"muted_glyph\":{\"id\":\"1590\"},\"nonselection_glyph\":{\"id\":\"1589\"},\"selection_glyph\":{\"id\":\"1605\"},\"view\":{\"id\":\"1592\"}},\"id\":\"1591\",\"type\":\"GlyphRenderer\"},{\"attributes\":{},\"id\":\"1653\",\"type\":\"Selection\"},{\"attributes\":{\"data\":{\"Class\":[2,2,2,2,2,2,2,2,2,2,2,2,2,2,2,2,2,2,2,2,2,2,2,2,2,2,2,2,2,2,2,2,2,2,2,2,2,2,2,2,2,2,2,2,2,2,2,2,2,2,2,2,2,2,2,2,2,2,2,2,2,2,2,2,2,2,2,2,2,2,2],\"CoinName\":[\"CometCoin\",\"Pura\",\"Aidos Kuneen\",\"Ravencoin Classic\",\"Wibcoin\",\"EtherZero\",\"Arweave\",\"Bithereum\",\"Smart Bitcoin\",\"UnitedBitcoin\",\"Circuits of Value\",\"Ergo\",\"Genix\",\"Beam\",\"AEON\",\"TENT\",\"Pirate Chain\",\"Internet Node token\",\"Nervos Network\",\"Handshake\",\"Ethereum Name Service\",\"BitcoinZ\",\"eCash\",\"Expanse\",\"Bitcoin Private\",\"Einsteinium\",\"Quantum Resistant Ledger\",\"MegaCoin\",\"Aptcoin\",\"TecraCoin\",\"FOREXCOIN\",\"Ubiq\",\"Gulden\",\"Firo\",\"Super Zero\",\"Horizen\",\"Bitcoin Gold\",\"Komodo\",\"Ethereum Classic\",\"MimbleWimbleCoin\",\"ZCash\",\"Dero\",\"SmartCash\",\"Namecoin\",\"ViaCoin\",\"SysCoin\",\"Flo\",\"Groestlcoin\",\"Siacoin\",\"MonaCoin\",\"Nano\",\"Bitcoin SV\",\"ByteCoin\",\"Callisto Network\",\"Vertcoin\",\"Verge\",\"FeatherCoin\",\"Steem\",\"SibCoin\",\"Primas\",\"GoldCoin\",\"Grin\",\"Haven Protocol\",\"Bitcoin\",\"Bitcoin Cash\",\"BLOC.MONEY\",\"DigiByte\",\"Litecoin\",\"Dogecoin\",\"Monero\",\"Ethereum\"],\"MaxSupply\":{\"__ndarray__\":\"sz7YxKDOKj0AAAAAAAAAALM+2MSgzio99AL10k1iUD9F183ToGGoPwAAAAAAAAAArkA/Azxdyj6zPtjEoM4qPQ49Ha73xrA+Dj0drvfGsD4AAAAAAAAAAJTnHVd/hdM+5FGQirX45D4wPaxWjj7qPgAAAAAAAAAA3su/OeDL0D7+D6prDvnjPvGp5wRS9wg/AAAAAAAAAACjLSWUJXcZPwAAAAAAAAAA9AL10k1iUD8AAAAAAADwPwv6Vm0O+dM+C0GfbihGsj4AAAAAAAAAAPE7PYy1+NQ+3ZRpp/fGwD7dlGmn98bAPgAAAAAAAAAAAAAAAAAAAAAAAAAAAAAAABoFGYm1+BQ//PU9wsYYsT5Y6Yi2WzoAPw49Ha73xrA+Dj0drvfGsD7+D6prDvnjPlh699aaCuU+e92W9+P0rz4OPR2u98awPgAAAAAAAAAA61m2hSY1Lz8AAAAAAAAAAAAAAAAAAAAA1VfJFH4rBj/PECLg4/TfPvE7PYy1+NQ+AAAAAAAAAAAAAAAAAAAAALRAmGUPndo+o/nNrffGsD7Z7OTefv2BP9qBsqPySDQ/xcAPpPfG0D480E7xBNVJP7JhjKH3xvA+AAAAAAAAAAAOPR2u98awPgAAAAAAAAAA1MrRPu3bzD4AAAAAAAAAAAAAAAAAAAAAo/nNrffGsD6j+c2t98awPiPOsHAO+cM+9AL10k1iUD/FwA+k98bQPgAAAAAAAAAAAAAAAAAAAAAAAAAAAAAAAA==\",\"dtype\":\"float64\",\"order\":\"little\",\"shape\":[71]},\"TotalCoinsMined\":{\"__ndarray__\":\"W6xk0KtKDj62P51LVomJPgEABoFZHVs+Gl8aKOs+5j6d6K3YvYxQP6JhGxWG+Y4+FB48tAWEcT4XPEPWz79gPupvX+zCtYs9BRKAWLvGVj5RI1EXOCC+PstrlDAEC24+frK5kZTMfT73r49gKNpyPtPYxylCi1M+fD1ZYHcCZT4EJrnq2hmKPp5G4VOr4ak+BUbFfQhtAz+LKn7BY8agPo5LNb5bHXs+nrxSg9nB5z4Ar7/PW7qTPwACIgdZ0WI++INTh0SRMD4gWXTIoC2OPs5toXUyr3Q+WtJS7g+uZT64VUUBAUJFPr+pfwCh+Pw9Xk6/i/eYDD9FS86NpOJpPnVLGrHBT6I+F1MnB0DLTD6LBgpolaSWPk7oPOim+ko+yYyuVIitVD69UjdHZSeCPu11KQAwIII+c2eHxLmDRz7F3AUEIRtLPu7Q9YrU9FM++lgSCTXixz4ZWks3NrdTPtLmIK6fIlk+Y0WV0CvbpT7N3Pb5U+qCPpW+lGymu3U+M4Fr6dMDCz/CX5J+SVJ3Pn/fvAOfEII+Gv6Xh6KvVD7dIHfwOGwoP4EDYyGa08o+leDU/+FqcT4fNojdQHvxPrUsdzhCe5E+Tg4nqUjHmj5CfGex/HZVPo5LNb5bHXs+AOALon3jZz5aJ1nKjAl3Pu0UIPms6E8+wCH5WDCqVD6f5oNHvrBUPpr00dXQi1c+Ik87/hdI8D624lnFcxZzPnN0X6Pb0iE/9ZsaHEWpUz6NnpGdt2aAPg==\",\"dtype\":\"float64\",\"order\":\"little\",\"shape\":[71]}},\"selected\":{\"id\":\"1629\"},\"selection_policy\":{\"id\":\"1647\"}},\"id\":\"1628\",\"type\":\"ColumnDataSource\"},{\"attributes\":{\"label\":{\"value\":\"2\"},\"renderers\":[{\"id\":\"1634\"}]},\"id\":\"1650\",\"type\":\"LegendItem\"},{\"attributes\":{\"data\":{\"Class\":[1,1,1,1,1,1,1,1,1,1],\"CoinName\":[\"Lamden Tau\",\"Rise\",\"Kcash\",\"Lisk\",\"Oxycoin\",\"Bitshares\",\"EOS\",\"Shift\",\"Achain\",\"ARK\"],\"MaxSupply\":{\"__ndarray__\":\"AAAAAAAAAAAAAAAAAAAAAAAAAAAAAAAAAAAAAAAAAAAAAAAAAAAAAKLyrpMZeSY/AAAAAAAAAAAAAAAAAAAAALM+2MSgzio9AAAAAAAAAAA=\",\"dtype\":\"float64\",\"order\":\"little\",\"shape\":[10]},\"TotalCoinsMined\":{\"__ndarray__\":\"0uahBDfRkD5KgvkocOGKPmMtWsJZ8rA+aiYTFzKigz4wjcSzSQWzPnMfatvBX8k+tzZYkEPlsT45TozC6BdQPmMtWsJZ8rA+nbPLFj9vhj4=\",\"dtype\":\"float64\",\"order\":\"little\",\"shape\":[10]}},\"selected\":{\"id\":\"1607\"},\"selection_policy\":{\"id\":\"1623\"}},\"id\":\"1606\",\"type\":\"ColumnDataSource\"},{\"attributes\":{\"below\":[{\"id\":\"1558\"}],\"center\":[{\"id\":\"1561\"},{\"id\":\"1565\"}],\"height\":300,\"left\":[{\"id\":\"1562\"}],\"margin\":[5,5,5,5],\"min_border_bottom\":10,\"min_border_left\":10,\"min_border_right\":10,\"min_border_top\":10,\"renderers\":[{\"id\":\"1591\"},{\"id\":\"1612\"},{\"id\":\"1634\"},{\"id\":\"1658\"},{\"id\":\"1684\"}],\"right\":[{\"id\":\"1603\"}],\"sizing_mode\":\"fixed\",\"title\":{\"id\":\"1550\"},\"toolbar\":{\"id\":\"1572\"},\"width\":700,\"x_range\":{\"id\":\"1542\"},\"x_scale\":{\"id\":\"1554\"},\"y_range\":{\"id\":\"1543\"},\"y_scale\":{\"id\":\"1556\"}},\"id\":\"1549\",\"subtype\":\"Figure\",\"type\":\"Plot\"},{\"attributes\":{\"coordinates\":null,\"group\":null,\"text_color\":\"black\",\"text_font_size\":\"12pt\"},\"id\":\"1550\",\"type\":\"Title\"},{\"attributes\":{\"fill_alpha\":{\"value\":0.2},\"fill_color\":{\"value\":\"#30a2da\"},\"hatch_alpha\":{\"value\":0.2},\"hatch_color\":{\"value\":\"#30a2da\"},\"line_alpha\":{\"value\":0.2},\"line_color\":{\"value\":\"#30a2da\"},\"size\":{\"value\":5.477225575051661},\"x\":{\"field\":\"TotalCoinsMined\"},\"y\":{\"field\":\"MaxSupply\"}},\"id\":\"1590\",\"type\":\"Scatter\"},{\"attributes\":{\"fill_alpha\":{\"value\":0.1},\"fill_color\":{\"value\":\"#e5ae38\"},\"hatch_alpha\":{\"value\":0.1},\"hatch_color\":{\"value\":\"#e5ae38\"},\"line_alpha\":{\"value\":0.1},\"line_color\":{\"value\":\"#e5ae38\"},\"size\":{\"value\":5.477225575051661},\"x\":{\"field\":\"TotalCoinsMined\"},\"y\":{\"field\":\"MaxSupply\"}},\"id\":\"1632\",\"type\":\"Scatter\"},{\"attributes\":{\"angle\":{\"value\":0.0},\"fill_alpha\":{\"value\":1.0},\"fill_color\":{\"value\":\"#8b8b8b\"},\"hatch_alpha\":{\"value\":1.0},\"hatch_color\":{\"value\":\"#8b8b8b\"},\"hatch_scale\":{\"value\":12.0},\"hatch_weight\":{\"value\":1.0},\"line_alpha\":{\"value\":1.0},\"line_cap\":{\"value\":\"butt\"},\"line_color\":{\"value\":\"#8b8b8b\"},\"line_dash\":{\"value\":[]},\"line_dash_offset\":{\"value\":0},\"line_join\":{\"value\":\"bevel\"},\"line_width\":{\"value\":1},\"marker\":{\"value\":\"circle\"},\"size\":{\"value\":5.477225575051661},\"x\":{\"field\":\"TotalCoinsMined\"},\"y\":{\"field\":\"MaxSupply\"}},\"id\":\"1705\",\"type\":\"Scatter\"},{\"attributes\":{},\"id\":\"1567\",\"type\":\"PanTool\"},{\"attributes\":{\"fill_alpha\":{\"value\":0.2},\"fill_color\":{\"value\":\"#fc4f30\"},\"hatch_alpha\":{\"value\":0.2},\"hatch_color\":{\"value\":\"#fc4f30\"},\"line_alpha\":{\"value\":0.2},\"line_color\":{\"value\":\"#fc4f30\"},\"size\":{\"value\":5.477225575051661},\"x\":{\"field\":\"TotalCoinsMined\"},\"y\":{\"field\":\"MaxSupply\"}},\"id\":\"1611\",\"type\":\"Scatter\"},{\"attributes\":{\"axis\":{\"id\":\"1562\"},\"coordinates\":null,\"dimension\":1,\"grid_line_color\":null,\"group\":null,\"ticker\":null},\"id\":\"1565\",\"type\":\"Grid\"},{\"attributes\":{\"source\":{\"id\":\"1628\"}},\"id\":\"1635\",\"type\":\"CDSView\"},{\"attributes\":{\"axis_label\":\"TotalCoinsMined\",\"coordinates\":null,\"formatter\":{\"id\":\"1580\"},\"group\":null,\"major_label_policy\":{\"id\":\"1581\"},\"ticker\":{\"id\":\"1559\"}},\"id\":\"1558\",\"type\":\"LinearAxis\"},{\"attributes\":{},\"id\":\"1629\",\"type\":\"Selection\"},{\"attributes\":{},\"id\":\"1556\",\"type\":\"LinearScale\"},{\"attributes\":{},\"id\":\"1566\",\"type\":\"SaveTool\"},{\"attributes\":{\"fill_alpha\":{\"value\":0.1},\"fill_color\":{\"value\":\"#fc4f30\"},\"hatch_alpha\":{\"value\":0.1},\"hatch_color\":{\"value\":\"#fc4f30\"},\"line_alpha\":{\"value\":0.1},\"line_color\":{\"value\":\"#fc4f30\"},\"size\":{\"value\":5.477225575051661},\"x\":{\"field\":\"TotalCoinsMined\"},\"y\":{\"field\":\"MaxSupply\"}},\"id\":\"1610\",\"type\":\"Scatter\"},{\"attributes\":{},\"id\":\"1563\",\"type\":\"BasicTicker\"},{\"attributes\":{\"fill_color\":{\"value\":\"#fc4f30\"},\"hatch_color\":{\"value\":\"#fc4f30\"},\"line_color\":{\"value\":\"#fc4f30\"},\"size\":{\"value\":5.477225575051661},\"x\":{\"field\":\"TotalCoinsMined\"},\"y\":{\"field\":\"MaxSupply\"}},\"id\":\"1609\",\"type\":\"Scatter\"},{\"attributes\":{},\"id\":\"1570\",\"type\":\"ResetTool\"},{\"attributes\":{\"axis\":{\"id\":\"1558\"},\"coordinates\":null,\"grid_line_color\":null,\"group\":null,\"ticker\":null},\"id\":\"1561\",\"type\":\"Grid\"},{\"attributes\":{},\"id\":\"1568\",\"type\":\"WheelZoomTool\"},{\"attributes\":{},\"id\":\"1607\",\"type\":\"Selection\"},{\"attributes\":{\"axis_label\":\"MaxSupply\",\"coordinates\":null,\"formatter\":{\"id\":\"1583\"},\"group\":null,\"major_label_policy\":{\"id\":\"1584\"},\"ticker\":{\"id\":\"1563\"}},\"id\":\"1562\",\"type\":\"LinearAxis\"},{\"attributes\":{\"tools\":[{\"id\":\"1544\"},{\"id\":\"1566\"},{\"id\":\"1567\"},{\"id\":\"1568\"},{\"id\":\"1569\"},{\"id\":\"1570\"}]},\"id\":\"1572\",\"type\":\"Toolbar\"},{\"attributes\":{\"source\":{\"id\":\"1606\"}},\"id\":\"1613\",\"type\":\"CDSView\"}],\"root_ids\":[\"1540\"]},\"title\":\"Bokeh Application\",\"version\":\"2.4.1\"}};\n",
       "    var render_items = [{\"docid\":\"9d026051-5f6e-4259-be83-cab03b9039c2\",\"root_ids\":[\"1540\"],\"roots\":{\"1540\":\"e14c3773-7834-4f55-a10e-ae376fefdf82\"}}];\n",
       "    root.Bokeh.embed.embed_items_notebook(docs_json, render_items);\n",
       "  }\n",
       "  if (root.Bokeh !== undefined && root.Bokeh.Panel !== undefined) {\n",
       "    embed_document(root);\n",
       "  } else {\n",
       "    var attempts = 0;\n",
       "    var timer = setInterval(function(root) {\n",
       "      if (root.Bokeh !== undefined && root.Bokeh.Panel !== undefined) {\n",
       "        clearInterval(timer);\n",
       "        embed_document(root);\n",
       "      } else if (document.readyState == \"complete\") {\n",
       "        attempts++;\n",
       "        if (attempts > 200) {\n",
       "          clearInterval(timer);\n",
       "          console.log(\"Bokeh: ERROR: Unable to run BokehJS code because BokehJS library is missing\");\n",
       "        }\n",
       "      }\n",
       "    }, 25, root)\n",
       "  }\n",
       "})(window);</script>"
      ],
      "text/plain": [
       ":NdOverlay   [Class]\n",
       "   :Scatter   [TotalCoinsMined]   (MaxSupply,CoinName)"
      ]
     },
     "execution_count": 64,
     "metadata": {
      "application/vnd.holoviews_exec.v0+json": {
       "id": "1540"
      }
     },
     "output_type": "execute_result"
    }
   ],
   "source": [
    "# Plot the scatter with x=\"TotalCoinsMined\" and y=\"MaxSupply\"\n",
    "scatterplot_df.hvplot.scatter(x='TotalCoinsMined', y='MaxSupply', by=\"Class\", hover_cols='CoinName')"
   ]
  },
  {
   "cell_type": "markdown",
   "metadata": {},
   "source": [
    "#### Table of Tradable Cryptocurrencies"
   ]
  },
  {
   "cell_type": "code",
   "execution_count": 65,
   "metadata": {},
   "outputs": [
    {
     "data": {},
     "metadata": {},
     "output_type": "display_data"
    },
    {
     "data": {
      "application/vnd.holoviews_exec.v0+json": "",
      "text/html": [
       "<div id='1960'>\n",
       "\n",
       "\n",
       "\n",
       "\n",
       "\n",
       "  <div class=\"bk-root\" id=\"8a7ea0fa-f7fb-4e09-b7e9-285528fc1d32\" data-root-id=\"1960\"></div>\n",
       "</div>\n",
       "<script type=\"application/javascript\">(function(root) {\n",
       "  function embed_document(root) {\n",
       "    var docs_json = {\"cd5029bc-3a70-4650-922d-47c0722b10f6\":{\"defs\":[{\"extends\":null,\"module\":null,\"name\":\"ReactiveHTML1\",\"overrides\":[],\"properties\":[]},{\"extends\":null,\"module\":null,\"name\":\"FlexBox1\",\"overrides\":[],\"properties\":[{\"default\":\"flex-start\",\"kind\":null,\"name\":\"align_content\"},{\"default\":\"flex-start\",\"kind\":null,\"name\":\"align_items\"},{\"default\":\"row\",\"kind\":null,\"name\":\"flex_direction\"},{\"default\":\"wrap\",\"kind\":null,\"name\":\"flex_wrap\"},{\"default\":\"flex-start\",\"kind\":null,\"name\":\"justify_content\"}]},{\"extends\":null,\"module\":null,\"name\":\"GridStack1\",\"overrides\":[],\"properties\":[{\"default\":\"warn\",\"kind\":null,\"name\":\"mode\"},{\"default\":null,\"kind\":null,\"name\":\"ncols\"},{\"default\":null,\"kind\":null,\"name\":\"nrows\"},{\"default\":true,\"kind\":null,\"name\":\"allow_resize\"},{\"default\":true,\"kind\":null,\"name\":\"allow_drag\"},{\"default\":[],\"kind\":null,\"name\":\"state\"}]},{\"extends\":null,\"module\":null,\"name\":\"click1\",\"overrides\":[],\"properties\":[{\"default\":\"\",\"kind\":null,\"name\":\"terminal_output\"},{\"default\":\"\",\"kind\":null,\"name\":\"debug_name\"},{\"default\":0,\"kind\":null,\"name\":\"clears\"}]},{\"extends\":null,\"module\":null,\"name\":\"TemplateActions1\",\"overrides\":[],\"properties\":[{\"default\":0,\"kind\":null,\"name\":\"open_modal\"},{\"default\":0,\"kind\":null,\"name\":\"close_modal\"}]},{\"extends\":null,\"module\":null,\"name\":\"MaterialTemplateActions1\",\"overrides\":[],\"properties\":[{\"default\":0,\"kind\":null,\"name\":\"open_modal\"},{\"default\":0,\"kind\":null,\"name\":\"close_modal\"}]}],\"roots\":{\"references\":[{\"attributes\":{\"data\":{\"Algorithm\":[\"Scrypt\",\"CryptoNight-Lite\",\"DPoS\",\"DPoS\",\"ECC 256K1\",\"IMesh\",\"Equihash210,9\",\"Dagger\",\"PoS\",\"Scrypt-n\",\"SHA-256\",\"Scrypt\",\"Cryptonight Haven\",\"Equihash\",\"Ethash\",\"CryptoNight\",\"BEP-2\",\"TRC-10\",\"SHA-256\",\"SHA-256\",\"X13\",\"Equihash\",\"Equihash\",\"SHA-256\",\"Equihash\",\"Equihash\",\"SHA-512\",\"Scrypt\",\"Quark\",\"CryptoNight\",\"Ethash\",\"Scrypt\",\"Ouroboros\",\"Multiple\",\"X13\",\"Scrypt\",\"Dagger\",\"X11\",\"BLAKE256\",\"CryptoNight\",\"Multiple\",\"BMW512 / Echo512\",\"Scrypt\",\"DPoS\",\"Scrypt\",\"SHA-256\",\"Autolykos\",\"Ethash\",\"Ethash\",\"EtcHash\",\"Ethash\",\"Ethash\",\"Ethash\",\"NeoScrypt\",\"MTP\",\"Scrypt\",\"X16R\",\"Scrypt\",\"C31\",\"Groestl\",\"Scrypt\",\"Blake2B + SHA3\",\"CryptoNight-Heavy\",\"Equihash\",\"BLAKE256\",\"Loopchain\",\"X11\",\"IMesh\",\"SHA-512\",\"Equihash\",\"DPoS\",\"DPoS\",\"Scrypt\",\"SPL Token\",\"Scrypt\",\"C31\",\"Scrypt\",\"RandomX\",\"SHA-256\",\"Blake2b\",\"X13\",\"Eaglesong\",\"SHA3\",\"Scrypt\",\"PoS\",\"PoS\",\"VBFT\",\"Scrypt\",\"DPoS\",\"Equihash\",\"Proof-of-Authority\",\"Scrypt\",\"Scrypt\",\"Quark\",\"X11\",\"POS 3.0\",\"RandomX\",\"Quark\",\"X16R\",\"Scrypt\",\"DPoS\",\"Scrypt\",\"BEP-20 Token\",\"Scrypt\",\"DPoS\",\"Blake2b\",\"X11GOST\",\"Shabal256\",\"SHA-256\",\"KECCAK\",\"X11\",\"PoS\",\"X13\",\"Ethash\",\"X11\",\"SHA-256\",\"Equihash\",\"Lyra2Z\",\"POS 3.0\",\"X11\",\"X13\",\"Scrypt\",\"Dagger-Hashimoto\",\"SHA-256\",\"SPoS\",\"X16RT\",\"PoS\",\"VeChainThor Authority\",\"Multiple\",\"Scrypt\",\"Lyra2REv2\",\"Scrypt\",\"Leased POS\",\"Scrypt\",\"SHA-256\",\"HEX\",\"Equihash\",\"ProgPowZ\",\"Equihash\",\"SHA-256\"],\"Class\":{\"__ndarray__\":\"AAAAAAIAAAABAAAAAQAAAAMAAAACAAAAAAAAAAMAAAAAAAAAAgAAAAIAAAAAAAAAAgAAAAIAAAAAAAAAAAAAAAMAAAAEAAAAAgAAAAIAAAAAAAAAAgAAAAIAAAACAAAAAgAAAAIAAAABAAAAAAAAAAAAAAACAAAAAgAAAAAAAAAAAAAAAgAAAAAAAAACAAAAAwAAAAAAAAAAAAAAAgAAAAIAAAAAAAAAAgAAAAEAAAACAAAAAAAAAAIAAAACAAAAAgAAAAIAAAACAAAAAgAAAAIAAAACAAAAAgAAAAIAAAACAAAAAgAAAAIAAAACAAAAAgAAAAIAAAACAAAAAgAAAAAAAAAAAAAAAAAAAAIAAAABAAAAAgAAAAEAAAABAAAAAgAAAAMAAAACAAAAAgAAAAIAAAACAAAAAgAAAAIAAAAAAAAAAgAAAAMAAAAAAAAAAAAAAAAAAAAAAAAAAAAAAAEAAAACAAAAAwAAAAAAAAACAAAAAAAAAAIAAAAAAAAAAgAAAAAAAAACAAAAAAAAAAEAAAAAAAAAAwAAAAAAAAABAAAAAgAAAAIAAAAAAAAAAgAAAAIAAAAAAAAAAgAAAAAAAAACAAAAAAAAAAIAAAACAAAAAgAAAAAAAAAAAAAAAAAAAAAAAAACAAAAAgAAAAMAAAAAAAAAAAAAAAMAAAACAAAAAAAAAAIAAAACAAAAAwAAAAAAAAACAAAAAAAAAAIAAAAAAAAAAAAAAAIAAAA=\",\"dtype\":\"int32\",\"order\":\"little\",\"shape\":[140]},\"CoinName\":[\"42 Coin\",\"AEON\",\"ARK\",\"Achain\",\"Acute Angle Cloud\",\"Aidos Kuneen\",\"Aion\",\"Amber\",\"Anchor Protocol\",\"Aptcoin\",\"Arweave\",\"Auroracoin\",\"BLOC.MONEY\",\"Beam\",\"BeforeCoinMarketCap\",\"Beldex\",\"Binance Coin\",\"BitTorrent\",\"Bitcoin\",\"Bitcoin Cash\",\"Bitcoin Diamond\",\"Bitcoin Gold\",\"Bitcoin Private\",\"Bitcoin SV\",\"BitcoinZ\",\"Bithereum\",\"Bitshares\",\"BlackCoin\",\"BlockNet\",\"ByteCoin\",\"Callisto Network\",\"Canada eCoin\",\"Cardano\",\"Circuits of Value\",\"CloakCoin\",\"CometCoin\",\"DAPS Coin\",\"Dash\",\"Decred\",\"Dero\",\"DigiByte\",\"DigitalNote\",\"Dogecoin\",\"EOS\",\"Einsteinium\",\"Emercoin\",\"Ergo\",\"EtherZero\",\"Ethereum\",\"Ethereum Classic\",\"Ethereum Name Service\",\"Expanse\",\"FOREXCOIN\",\"FeatherCoin\",\"Firo\",\"Flo\",\"Genix\",\"GoldCoin\",\"Grin\",\"Groestlcoin\",\"Gulden\",\"Handshake\",\"Haven Protocol\",\"Horizen\",\"HyperCash\",\"ICON Project\",\"IOCoin\",\"Internet Node token\",\"Kcash\",\"Komodo\",\"Lamden Tau\",\"Lisk\",\"Litecoin\",\"MAPS\",\"MegaCoin\",\"MimbleWimbleCoin\",\"MonaCoin\",\"Monero\",\"Namecoin\",\"Nano\",\"NavCoin\",\"Nervos Network\",\"Nexus\",\"NovaCoin\",\"NuShares\",\"Nxt\",\"Ontology\",\"OpenChat\",\"Oxycoin\",\"Pirate Chain\",\"Poa Network\",\"PotCoin\",\"Primas\",\"Private Instant Verified Transaction\",\"Pura\",\"QTUM\",\"Quantum Resistant Ledger\",\"QuarkCoin\",\"Ravencoin Classic\",\"Reddcoin\",\"Rise\",\"SafeExchangeCoin\",\"SafePal\",\"SaluS\",\"Shift\",\"Siacoin\",\"SibCoin\",\"Signa\",\"Smart Bitcoin\",\"SmartCash\",\"StakeNet\",\"Steem\",\"Stratis\",\"Super Zero\",\"SuperCoin\",\"SysCoin\",\"TENT\",\"TecraCoin\",\"TokenPay\",\"TorCoin\",\"Triangles Coin\",\"USX Quantum\",\"Ubiq\",\"UnitedBitcoin\",\"V Systems\",\"VEIL\",\"Validity\",\"VeChain\",\"Verge\",\"VeriCoin\",\"Vertcoin\",\"ViaCoin\",\"Waves\",\"WhiteCoin\",\"Wibcoin\",\"XDNA\",\"ZCash\",\"Zano\",\"Zelcash\",\"eCash\"],\"MaxSupply\":{\"__ndarray__\":\"AAAAAAAARUAAAAAAAADwvwAAAAAAAPC/AAAAAAAAAAAAAAAAAADwvwAAAAAAAAAAAAAAAAAA8L8AAAAAAADwvwAAAAAAAPC/AAAAAPQGhEEAAAAApHiPQQAAAAAAAPC/AAAAAITXh0EAAAAABVSvQQAAAAAAAPC/AAAAGLBwAkIAAAAAAADwvwAAAAAAAPC/5WGh//MGdEHlYaH/8wZ0QQAAAACxCKlBAAAAAPQGdEEAAABAX9B1QeVhof/zBnRBAAAASMqOE0IAAAAAAAAAAAAAwBCL0+pBAAAAAITXl0EAAAAAAADwvwAAwGiieUVCAAAAEOI2+EEAAABQApmZQQAAAARr9CRCAAAAAAAA8L8AAAAAAADwvwAAAAAAAAAAAAAAPFNMMEIAAAAAQgZyQQAAAAD0BnRBAAAAAAAA8L8AAABIyo4TQgAAAAAAAPC/AAAAAAAA8L8AAAAAAADwvwAAAAAAAPC/AAAAAAAA8L8AAABSkk2XQQAAAAAAAPC/AAAAAAAA8L8AAADADR6pQQAAAAAAAPC/AAAAAITXl0EAAAAAAADwvwAAAAD0BrRBAAAAAJxodEEAAAAA0BKjQQAAAACxCKlBAAAAEIc5kUEAAAAAAADwvwAAAACxCJlBAAAAALEI2UEAAACA+2XeQQAAAAAAAPC/AAAAAPQGdEEAAAAA9AaUQQAAAAAAAPC/AAAAABj7dEEAAAAAZc3NQQAAAAAAAPC/AAAAAITXp0EAAAAAAADwvwAAAAAAAPC/AAAAAPQGlEEAAAAgX6ACQgAAAAD0BoRBAAAAANASc0EAAAAAAADwvwAAAAAAAPC/AAAAAAAA8L8AAACI1MSfQQAAAAAAAPC/AAAAAAAA8L8AAAAAvpiSQQAAAAAAAPC/AAAAAAAAAAAAAAAAZc3NQQAAAAAAAPC/AAAAAAAA8L8AAAAAAADwvwAAAACE16dBAAAAAAAA8L8AAAAAsQi5QQAAAAAAAPC/AAAAAAAA8L8AAAAAAADwvwAAAAn1tJlBAAAAALEImUEAAAAAAADwvwAAAEjKjhNCAAAAAAAA8L8AAAAAAADwvwAAAAAAAPC/AAAAAAAA8L8AAAAAAADwvwAAAAAAAPC/AAAAAAAA8L8AAAAA9AZ0QQAAAAAAAPC/AAAAAPQGdEEAAAAgX6DyQQAAAAAAAPC/AAAAAAAA8L8AAAAAAADwvwAAAEAbX8NBAAAAAAAA8L8AAAAA53bKQQAAAADQDJRBAAAAAAAA8L8AAAAAhNd3QQAAAAAAAAAAAAAAAAAAAAAAAAAAAADwvwAAAAAAAPC/AAAAAPQGdEEAAAAAAADwvwAAAACj4bFBAAAAAIgqYUEAAGLMeTA0QgAAAAYK1g5CAAAAAAAA8L8AAAAA9AaUQQAAAAAAAPC/AAAAAAAA8L8AAAAAZc3NQewNE4u0Gm1CAAAAAAAAAAAAAAAA9AZ0QQAAAAAAAPC/AAAAALEIqUEAAFCKcRmzQg==\",\"dtype\":\"float64\",\"order\":\"little\",\"shape\":[140]},\"ProofType\":[\"PoW/PoS\",\"PoW\",\"DPoS\",\"DPoS\",\"DPOS\",\"PoW\",\"PoW/PoS\",\"PoA\",\"PoS\",\"PoW\",\"PoW\",\"PoW/PoS\",\"PoW\",\"PoW\",\"PoW/PoS\",\"PoS\",\"BFT\",\"DPoS\",\"PoW\",\"PoW\",\"PoW/PoS\",\"PoW\",\"PoW\",\"PoW\",\"PoW\",\"PoW\",\"DPoS\",\"PoS\",\"PoW/PoS\",\"PoW\",\"PoW\",\"AuxPoW\",\"PoS\",\"PoW\",\"PoW/PoS\",\"PoW\",\" PoW/PoS/PoA\",\"PoW/PoSe\",\"PoW/PoS\",\"PoW\",\"PoW\",\"PoW/PoS\",\"PoW\",\"DPoS\",\"PoW\",\"PoW/PoS\",\"PoW\",\"PoW\",\"PoW\",\"PoW\",\"Proof-of-Work\",\"PoW\",\"PoW\",\"PoW\",\"PoW\",\"PoW\",\"PoW\",\"PoW\",\"PoW\",\"PoW\",\"PoW\",\"PoW\",\"PoW\",\"PoW\",\"PoW/PoS\",\"PoS\",\"PoW/PoS\",\"DPoS/dBFT\",\"Zero-Knowledge Proof\",\"dPoW/PoW\",\"DPoS\",\"DPoS\",\"PoW\",\"PoH\",\"PoW\",\"PoW\",\"PoW\",\"PoW\",\"PoW\",\"PoW\",\"PoW/PoS\",\"PoW\",\"PoW/nPoS\",\"PoW/PoS\",\"PoS\",\"PoS/LPoS\",\"PoS\",\"PoW/PoS\",\"DPoS\",\"dPoW\",\"PoA\",\"PoW/PoS\",\"PoW\",\"PoW/PoS\",\"PoW\",\"PoS\",\"PoW\",\"PoW/PoS\",\"PoW\",\"PoW/PoS\",\"PoS\",\"PoC\",\"PoSA\",\"PoW/PoS\",\"DPoS\",\"PoW\",\"PoW\",\"PoC\",\"PoW\",\"PoW\",\"TPoS\",\"PoW\",\"PoS\",\"ProgPoW/PoS\",\"PoS\",\"PoW\",\"PoW\",\"PoW\",\"PoS\",\"PoW/PoS\",\"PoW/PoS\",\"PoW/PoS\",\"PoW\",\"PoW\",\"SPoS\",\"PoW/PoS\",\"PoS\",\"Proof of Authority\",\"PoW\",\"PoST\",\"PoW\",\"PoW\",\"LPoS\",\"PoW/PoS\",\"PoW\",\"PoW/PoS\",\"PoW\",\"PoW/PoS\",\"PoW/PoS\",\"PoW\"],\"TotalCoinsMined\":{\"__ndarray__\":\"nMr9af7/REACepvLWy9xQQEAAMAEuqNBAAAAAGXNzUEAAAAAZc3NQQAAAACE13dBAAAAV+AmvkEAAIASosHNQQAAAABlzc1BAAAAACixYkEAAACYk82OQXjdzg1Qz5dBZmZmlT+0dEEdjcF2oJOQQSX+yIHN3P9BAACA5Gzd1EHNzMyXIgukQQAAn7IyIwxDAAAA0KcrckHTrlg2azFyQQAAAHf9QKhBZi/GeZguckEke6MxvyJNQZvNTrZxMHJBwzig/b/jBEIAAAAAh3R9QR13hpSyT+ZBfS3FpppGjUHioLDbuKpgQTqMMOKOeUVCyE5q06iW50EAAACE+tOXQf3FcCxaGB9CJgrBFlR92kGfS0L1V1JWQQAAAAD8oipBAADoEw8FLULr3u2984NkQY9iTRnx0GpBAAAAADCMcUGevMJJ+6EMQlnvAAfoJP5BibRvGDZYP0K1pqGJlHjPQfH//7oeiapBPC/VymPyhkEAAACgsGqKQWZm5qNnPKtB2/l+pdbXnEFFETmANOCfQQAAAACE15dBXI/C/+GLgEEAAAA4TSUpQjH1Azwpvq5BRIaXMolRaUEYBkoS2KGgQQAAAKDJM5pBA/H/51UBhUEV2Y7KskGUQaavjPMZHJNB3/qlzu0ZwEHWjxHeFYC9QR8616S1DmxBAAAAMAS5Z0EE5qEq8X2FQTo7ioNBxctBceuW55qyckHobtzS7cHGQQAAAABlzc1BZrjzl+Hsn0EAAACOH5OtQQAAAKqEQ6FBHRPvwKTIkEEAAAAAZc3NQUDe8fonEINBE9s4ICWtZEGw5eLpp4GUQWgPaWK/SXFBAAAAsAFWcUEAAACI1MSfQXx1ES1Gi5FBuXV2dsUUIULaxq92H4aRQTS/muEWV0xBlWXdcFgE90FABvi7w8XNQQAAAABlzc1BAAAAAGXNzUEUrtdyjLnQQU5F6oJV86ZBbwnB5yQro0FDJmsWuSGrQQAAAACE15dBHEddhqB/kEHo7K2BQnSmQQAAAOjj1phBGQJSMw0wkkGx0yodKq6wQWXiFtSFjwNCnv1Bv6HcHEKF69Gg06KnQQAAwP///99BAAAAAGXNvUEXKv+2w40vQQAAAOBDTWxBAAAgaRDBJ0JMvFfhu99yQQAAALRl7t9BEE1bPIWxqECzyfWtMwDlQUfS644TJJ9BokVWItSLt0HV38/6VWCgQQAAAMjq6LNBI+iZ7p7UiUEi8OLD0DfDQQAAAMBFeYJBohKuthJ6GUEAAACQ5N10QQAAAADQEmNBt0JYrVlkB0EAAABAG1/jQRjwrTLKwoZBAAAAAPQGdEEAAIACmtX2QSoH3P60fpxBpBjDYWp/UUEAABmbGwU0QuSVNocmvg5CgaT0Iq28gEHBd4jOXaGOQYIGagn0GXZBAAAAOPjXmUEAAIB+jJnMQewNE4u0Gm1CAAAAoOXXYEG1TVLBktVnQQwCcQedNGlBAAAAAN45ukFANYFrw1ixQg==\",\"dtype\":\"float64\",\"order\":\"little\",\"shape\":[140]}},\"selected\":{\"id\":\"1963\"},\"selection_policy\":{\"id\":\"1997\"}},\"id\":\"1962\",\"type\":\"ColumnDataSource\"},{\"attributes\":{},\"id\":\"1965\",\"type\":\"StringEditor\"},{\"attributes\":{},\"id\":\"1970\",\"type\":\"StringEditor\"},{\"attributes\":{\"children\":[{\"id\":\"1961\"},{\"id\":\"1994\"},{\"id\":\"2001\"}],\"margin\":[0,0,0,0],\"name\":\"Row03777\",\"tags\":[\"embedded\"]},\"id\":\"1960\",\"type\":\"Row\"},{\"attributes\":{},\"id\":\"1980\",\"type\":\"NumberEditor\"},{\"attributes\":{},\"id\":\"1975\",\"type\":\"StringEditor\"},{\"attributes\":{\"margin\":[5,5,5,5],\"name\":\"HSpacer03781\",\"sizing_mode\":\"stretch_width\"},\"id\":\"1961\",\"type\":\"Spacer\"},{\"attributes\":{\"editor\":{\"id\":\"1965\"},\"field\":\"CoinName\",\"formatter\":{\"id\":\"1964\"},\"title\":\"CoinName\"},\"id\":\"1966\",\"type\":\"TableColumn\"},{\"attributes\":{},\"id\":\"1969\",\"type\":\"StringFormatter\"},{\"attributes\":{\"format\":\"0,0.0[00000]\"},\"id\":\"1984\",\"type\":\"NumberFormatter\"},{\"attributes\":{\"editor\":{\"id\":\"1970\"},\"field\":\"Algorithm\",\"formatter\":{\"id\":\"1969\"},\"title\":\"Algorithm\"},\"id\":\"1971\",\"type\":\"TableColumn\"},{\"attributes\":{},\"id\":\"1985\",\"type\":\"NumberEditor\"},{\"attributes\":{\"format\":\"0,0.0[00000]\"},\"id\":\"1979\",\"type\":\"NumberFormatter\"},{\"attributes\":{\"editor\":{\"id\":\"1980\"},\"field\":\"MaxSupply\",\"formatter\":{\"id\":\"1979\"},\"title\":\"MaxSupply\"},\"id\":\"1981\",\"type\":\"TableColumn\"},{\"attributes\":{},\"id\":\"1989\",\"type\":\"NumberFormatter\"},{\"attributes\":{},\"id\":\"1990\",\"type\":\"IntEditor\"},{\"attributes\":{},\"id\":\"1997\",\"type\":\"UnionRenderers\"},{\"attributes\":{\"margin\":[5,5,5,5],\"name\":\"HSpacer03782\",\"sizing_mode\":\"stretch_width\"},\"id\":\"2001\",\"type\":\"Spacer\"},{\"attributes\":{},\"id\":\"1974\",\"type\":\"StringFormatter\"},{\"attributes\":{\"editor\":{\"id\":\"1985\"},\"field\":\"TotalCoinsMined\",\"formatter\":{\"id\":\"1984\"},\"title\":\"TotalCoinsMined\"},\"id\":\"1986\",\"type\":\"TableColumn\"},{\"attributes\":{\"source\":{\"id\":\"1962\"}},\"id\":\"1996\",\"type\":\"CDSView\"},{\"attributes\":{},\"id\":\"1963\",\"type\":\"Selection\"},{\"attributes\":{\"editor\":{\"id\":\"1990\"},\"field\":\"Class\",\"formatter\":{\"id\":\"1989\"},\"title\":\"Class\"},\"id\":\"1991\",\"type\":\"TableColumn\"},{\"attributes\":{},\"id\":\"1964\",\"type\":\"StringFormatter\"},{\"attributes\":{\"columns\":[{\"id\":\"1966\"},{\"id\":\"1971\"},{\"id\":\"1976\"},{\"id\":\"1981\"},{\"id\":\"1986\"},{\"id\":\"1991\"}],\"height\":300,\"reorderable\":false,\"source\":{\"id\":\"1962\"},\"view\":{\"id\":\"1996\"},\"width\":700},\"id\":\"1994\",\"type\":\"DataTable\"},{\"attributes\":{\"editor\":{\"id\":\"1975\"},\"field\":\"ProofType\",\"formatter\":{\"id\":\"1974\"},\"title\":\"ProofType\"},\"id\":\"1976\",\"type\":\"TableColumn\"}],\"root_ids\":[\"1960\"]},\"title\":\"Bokeh Application\",\"version\":\"2.4.1\"}};\n",
       "    var render_items = [{\"docid\":\"cd5029bc-3a70-4650-922d-47c0722b10f6\",\"root_ids\":[\"1960\"],\"roots\":{\"1960\":\"8a7ea0fa-f7fb-4e09-b7e9-285528fc1d32\"}}];\n",
       "    root.Bokeh.embed.embed_items_notebook(docs_json, render_items);\n",
       "  }\n",
       "  if (root.Bokeh !== undefined && root.Bokeh.Panel !== undefined) {\n",
       "    embed_document(root);\n",
       "  } else {\n",
       "    var attempts = 0;\n",
       "    var timer = setInterval(function(root) {\n",
       "      if (root.Bokeh !== undefined && root.Bokeh.Panel !== undefined) {\n",
       "        clearInterval(timer);\n",
       "        embed_document(root);\n",
       "      } else if (document.readyState == \"complete\") {\n",
       "        attempts++;\n",
       "        if (attempts > 200) {\n",
       "          clearInterval(timer);\n",
       "          console.log(\"Bokeh: ERROR: Unable to run BokehJS code because BokehJS library is missing\");\n",
       "        }\n",
       "      }\n",
       "    }, 25, root)\n",
       "  }\n",
       "})(window);</script>"
      ],
      "text/plain": [
       ":Table   [CoinName,Algorithm,ProofType,MaxSupply,TotalCoinsMined,Class]"
      ]
     },
     "execution_count": 65,
     "metadata": {
      "application/vnd.holoviews_exec.v0+json": {
       "id": "1960"
      }
     },
     "output_type": "execute_result"
    }
   ],
   "source": [
    "# Table with tradable cryptos\n",
    "clustered_df.sort_values(by='CoinName').hvplot.table(columns=[\"CoinName\", \"Algorithm\", \"ProofType\", \"MaxSupply\", \"TotalCoinsMined\", \"Class\"], sortable=True, selectable=True)"
   ]
  },
  {
   "cell_type": "code",
   "execution_count": 66,
   "metadata": {},
   "outputs": [
    {
     "name": "stdout",
     "output_type": "stream",
     "text": [
      "There are 140 tradable cryptocurrencies.\n"
     ]
    }
   ],
   "source": [
    "# Print the total number of tradable cryptocurrencies\n",
    "print(f\"There are {clustered_df.shape[0]} tradable cryptocurrencies.\")"
   ]
  }
 ],
 "metadata": {
  "file_extension": ".py",
  "interpreter": {
   "hash": "f90ac9dcd0e3795a7765b4d17d46b06e26482341559f791293b5ac684fa6b9b2"
  },
  "kernelspec": {
   "display_name": "Python 3.8.2 ('mlenv2')",
   "language": "python",
   "name": "python3"
  },
  "language_info": {
   "codemirror_mode": {
    "name": "ipython",
    "version": 3
   },
   "file_extension": ".py",
   "mimetype": "text/x-python",
   "name": "python",
   "nbconvert_exporter": "python",
   "pygments_lexer": "ipython3",
   "version": "3.8.2"
  },
  "mimetype": "text/x-python",
  "name": "python",
  "npconvert_exporter": "python",
  "pygments_lexer": "ipython3",
  "version": 3
 },
 "nbformat": 4,
 "nbformat_minor": 4
}
